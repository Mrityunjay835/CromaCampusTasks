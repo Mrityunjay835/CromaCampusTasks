{
 "cells": [
  {
   "cell_type": "code",
   "execution_count": 1,
   "id": "1eeb0b81-5e73-4204-9f56-2a4bbe610889",
   "metadata": {},
   "outputs": [],
   "source": [
    "import pandas as pd"
   ]
  },
  {
   "cell_type": "code",
   "execution_count": null,
   "id": "f707a1f0-8cd5-4916-b784-ae15a3fe0fea",
   "metadata": {},
   "outputs": [],
   "source": [
    "df = pd.read_excel(\"\")"
   ]
  }
 ],
 "metadata": {
  "kernelspec": {
   "display_name": "Python 3 (ipykernel)",
   "language": "python",
   "name": "python3"
  },
  "language_info": {
   "codemirror_mode": {
    "name": "ipython",
    "version": 3
   },
   "file_extension": ".py",
   "mimetype": "text/x-python",
   "name": "python",
   "nbconvert_exporter": "python",
   "pygments_lexer": "ipython3",
   "version": "3.11.7"
  }
 },
 "nbformat": 4,
 "nbformat_minor": 5
}
