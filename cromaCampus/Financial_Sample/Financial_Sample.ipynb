{
 "cells": [
  {
   "cell_type": "code",
   "execution_count": 1,
   "id": "1eeb0b81-5e73-4204-9f56-2a4bbe610889",
   "metadata": {},
   "outputs": [],
   "source": [
    "import pandas as pd\n",
    "import numpy as np\n",
    "import matplotlib.pyplot as plt\n",
    "import seaborn as sns"
   ]
  },
  {
   "cell_type": "code",
   "execution_count": 2,
   "id": "f707a1f0-8cd5-4916-b784-ae15a3fe0fea",
   "metadata": {},
   "outputs": [],
   "source": [
    "df = pd.read_excel(\"Financial_Sample.xlsx\")"
   ]
  },
  {
   "cell_type": "code",
   "execution_count": 3,
   "id": "e8ae012c-f976-4efb-8478-23e3bffae09d",
   "metadata": {},
   "outputs": [],
   "source": [
    " df.columns = df.columns.str.strip()"
   ]
  },
  {
   "cell_type": "code",
   "execution_count": 4,
   "id": "4db03dee-60b7-4264-bb82-74fa1c70ffdc",
   "metadata": {},
   "outputs": [
    {
     "data": {
      "text/html": [
       "<div>\n",
       "<style scoped>\n",
       "    .dataframe tbody tr th:only-of-type {\n",
       "        vertical-align: middle;\n",
       "    }\n",
       "\n",
       "    .dataframe tbody tr th {\n",
       "        vertical-align: top;\n",
       "    }\n",
       "\n",
       "    .dataframe thead th {\n",
       "        text-align: right;\n",
       "    }\n",
       "</style>\n",
       "<table border=\"1\" class=\"dataframe\">\n",
       "  <thead>\n",
       "    <tr style=\"text-align: right;\">\n",
       "      <th></th>\n",
       "      <th>Segment</th>\n",
       "      <th>Country</th>\n",
       "      <th>Product</th>\n",
       "      <th>Discount Band</th>\n",
       "      <th>Units Sold</th>\n",
       "      <th>Manufacturing Price</th>\n",
       "      <th>Sale Price</th>\n",
       "      <th>Gross Sales</th>\n",
       "      <th>Discounts</th>\n",
       "      <th>Sales</th>\n",
       "      <th>COGS</th>\n",
       "      <th>Profit</th>\n",
       "      <th>Date</th>\n",
       "      <th>Month Number</th>\n",
       "      <th>Month Name</th>\n",
       "      <th>Year</th>\n",
       "    </tr>\n",
       "  </thead>\n",
       "  <tbody>\n",
       "    <tr>\n",
       "      <th>0</th>\n",
       "      <td>Government</td>\n",
       "      <td>Canada</td>\n",
       "      <td>Carretera</td>\n",
       "      <td>NaN</td>\n",
       "      <td>1618.5</td>\n",
       "      <td>3</td>\n",
       "      <td>20.0</td>\n",
       "      <td>32370.0</td>\n",
       "      <td>0.0</td>\n",
       "      <td>32370.0</td>\n",
       "      <td>16185.0</td>\n",
       "      <td>16185.0</td>\n",
       "      <td>2014-01-01</td>\n",
       "      <td>1</td>\n",
       "      <td>January</td>\n",
       "      <td>2014</td>\n",
       "    </tr>\n",
       "    <tr>\n",
       "      <th>1</th>\n",
       "      <td>Government</td>\n",
       "      <td>Germany</td>\n",
       "      <td>Carretera</td>\n",
       "      <td>NaN</td>\n",
       "      <td>1321.0</td>\n",
       "      <td>3</td>\n",
       "      <td>20.0</td>\n",
       "      <td>26420.0</td>\n",
       "      <td>0.0</td>\n",
       "      <td>26420.0</td>\n",
       "      <td>13210.0</td>\n",
       "      <td>13210.0</td>\n",
       "      <td>2014-01-01</td>\n",
       "      <td>1</td>\n",
       "      <td>January</td>\n",
       "      <td>2014</td>\n",
       "    </tr>\n",
       "    <tr>\n",
       "      <th>2</th>\n",
       "      <td>Midmarket</td>\n",
       "      <td>France</td>\n",
       "      <td>Carretera</td>\n",
       "      <td>NaN</td>\n",
       "      <td>2178.0</td>\n",
       "      <td>3</td>\n",
       "      <td>15.0</td>\n",
       "      <td>32670.0</td>\n",
       "      <td>0.0</td>\n",
       "      <td>32670.0</td>\n",
       "      <td>21780.0</td>\n",
       "      <td>10890.0</td>\n",
       "      <td>2014-06-01</td>\n",
       "      <td>6</td>\n",
       "      <td>June</td>\n",
       "      <td>2014</td>\n",
       "    </tr>\n",
       "    <tr>\n",
       "      <th>3</th>\n",
       "      <td>Midmarket</td>\n",
       "      <td>Germany</td>\n",
       "      <td>Carretera</td>\n",
       "      <td>NaN</td>\n",
       "      <td>888.0</td>\n",
       "      <td>3</td>\n",
       "      <td>15.0</td>\n",
       "      <td>13320.0</td>\n",
       "      <td>0.0</td>\n",
       "      <td>13320.0</td>\n",
       "      <td>8880.0</td>\n",
       "      <td>4440.0</td>\n",
       "      <td>2014-06-01</td>\n",
       "      <td>6</td>\n",
       "      <td>June</td>\n",
       "      <td>2014</td>\n",
       "    </tr>\n",
       "    <tr>\n",
       "      <th>4</th>\n",
       "      <td>Midmarket</td>\n",
       "      <td>Mexico</td>\n",
       "      <td>Carretera</td>\n",
       "      <td>NaN</td>\n",
       "      <td>2470.0</td>\n",
       "      <td>3</td>\n",
       "      <td>15.0</td>\n",
       "      <td>37050.0</td>\n",
       "      <td>0.0</td>\n",
       "      <td>37050.0</td>\n",
       "      <td>24700.0</td>\n",
       "      <td>12350.0</td>\n",
       "      <td>2014-06-01</td>\n",
       "      <td>6</td>\n",
       "      <td>June</td>\n",
       "      <td>2014</td>\n",
       "    </tr>\n",
       "  </tbody>\n",
       "</table>\n",
       "</div>"
      ],
      "text/plain": [
       "      Segment  Country    Product Discount Band  Units Sold  \\\n",
       "0  Government   Canada  Carretera           NaN      1618.5   \n",
       "1  Government  Germany  Carretera           NaN      1321.0   \n",
       "2   Midmarket   France  Carretera           NaN      2178.0   \n",
       "3   Midmarket  Germany  Carretera           NaN       888.0   \n",
       "4   Midmarket   Mexico  Carretera           NaN      2470.0   \n",
       "\n",
       "   Manufacturing Price  Sale Price  Gross Sales  Discounts    Sales     COGS  \\\n",
       "0                    3        20.0      32370.0        0.0  32370.0  16185.0   \n",
       "1                    3        20.0      26420.0        0.0  26420.0  13210.0   \n",
       "2                    3        15.0      32670.0        0.0  32670.0  21780.0   \n",
       "3                    3        15.0      13320.0        0.0  13320.0   8880.0   \n",
       "4                    3        15.0      37050.0        0.0  37050.0  24700.0   \n",
       "\n",
       "    Profit       Date  Month Number Month Name  Year  \n",
       "0  16185.0 2014-01-01             1    January  2014  \n",
       "1  13210.0 2014-01-01             1    January  2014  \n",
       "2  10890.0 2014-06-01             6       June  2014  \n",
       "3   4440.0 2014-06-01             6       June  2014  \n",
       "4  12350.0 2014-06-01             6       June  2014  "
      ]
     },
     "execution_count": 4,
     "metadata": {},
     "output_type": "execute_result"
    }
   ],
   "source": [
    "df.head()"
   ]
  },
  {
   "cell_type": "code",
   "execution_count": 5,
   "id": "6ff4f184-b766-49ad-adc4-805ab1ac9c9e",
   "metadata": {},
   "outputs": [
    {
     "data": {
      "text/plain": [
       "(700, 16)"
      ]
     },
     "execution_count": 5,
     "metadata": {},
     "output_type": "execute_result"
    }
   ],
   "source": [
    "df.shape"
   ]
  },
  {
   "cell_type": "code",
   "execution_count": 6,
   "id": "d2e961e7-745b-40df-ad68-1d06633ec4a7",
   "metadata": {},
   "outputs": [
    {
     "data": {
      "text/plain": [
       "Segment                 8\n",
       "Country                11\n",
       "Product                 8\n",
       "Discount Band          62\n",
       "Units Sold              5\n",
       "Manufacturing Price     0\n",
       "Sale Price              7\n",
       "Gross Sales             5\n",
       "Discounts               5\n",
       "Sales                   0\n",
       "COGS                    0\n",
       "Profit                  0\n",
       "Date                    0\n",
       "Month Number            0\n",
       "Month Name              0\n",
       "Year                    0\n",
       "dtype: int64"
      ]
     },
     "execution_count": 6,
     "metadata": {},
     "output_type": "execute_result"
    }
   ],
   "source": [
    "df.isnull().sum()"
   ]
  },
  {
   "cell_type": "code",
   "execution_count": 7,
   "id": "c3bc5679-bcaa-491c-a8de-f70af11d2109",
   "metadata": {},
   "outputs": [
    {
     "name": "stdout",
     "output_type": "stream",
     "text": [
      "Missing Values Percentage : 15.86 %\n"
     ]
    }
   ],
   "source": [
    "# Null dataset percentage\n",
    "print(\"Missing Values Percentage :\",round(df.isnull().sum().sum()/df.shape[0]*100,2),'%')"
   ]
  },
  {
   "cell_type": "markdown",
   "id": "1ec5050d-98b1-429a-9346-4664222c6150",
   "metadata": {},
   "source": [
    "# Getting categorical and Numerical column"
   ]
  },
  {
   "cell_type": "code",
   "execution_count": 8,
   "id": "2c1ee6da-52ba-474f-9a23-5b48cbf49ebd",
   "metadata": {},
   "outputs": [
    {
     "data": {
      "text/plain": [
       "Index(['Segment', 'Country', 'Product', 'Discount Band', 'Month Name'], dtype='object')"
      ]
     },
     "metadata": {},
     "output_type": "display_data"
    },
    {
     "name": "stdout",
     "output_type": "stream",
     "text": [
      "------------------\n"
     ]
    },
    {
     "data": {
      "text/plain": [
       "Index(['Units Sold', 'Manufacturing Price', 'Sale Price', 'Gross Sales',\n",
       "       'Discounts', 'Sales', 'COGS', 'Profit', 'Month Number', 'Year'],\n",
       "      dtype='object')"
      ]
     },
     "metadata": {},
     "output_type": "display_data"
    }
   ],
   "source": [
    "categorical = df.select_dtypes(include = 'object').columns\n",
    "display(categorical)\n",
    "print(\"------------------\")\n",
    "numrical = df.select_dtypes(include = np.number).columns\n",
    "display(numrical)"
   ]
  },
  {
   "cell_type": "markdown",
   "id": "33650605-a7d3-48cf-895c-18dca1645dd3",
   "metadata": {},
   "source": [
    "# Repair the dataset"
   ]
  },
  {
   "cell_type": "code",
   "execution_count": 9,
   "id": "e128a33a-f5b7-471a-85a5-ec8229c175b2",
   "metadata": {},
   "outputs": [
    {
     "data": {
      "text/plain": [
       "['Segment', 'Country', 'Product', 'Discount Band', 'Month Name']"
      ]
     },
     "execution_count": 9,
     "metadata": {},
     "output_type": "execute_result"
    }
   ],
   "source": [
    "# Obejects Column in Dataset\n",
    "objects = list(df.select_dtypes(include='object').columns)\n",
    "objects"
   ]
  },
  {
   "cell_type": "code",
   "execution_count": 10,
   "id": "50560a16-8b84-45dc-8301-fbd3c29cb99b",
   "metadata": {},
   "outputs": [
    {
     "data": {
      "text/plain": [
       "Segment           8\n",
       "Country          11\n",
       "Product           8\n",
       "Discount Band    62\n",
       "Month Name        0\n",
       "dtype: int64"
      ]
     },
     "execution_count": 10,
     "metadata": {},
     "output_type": "execute_result"
    }
   ],
   "source": [
    "df.select_dtypes(include='object').isnull().sum()\n"
   ]
  },
  {
   "cell_type": "code",
   "execution_count": 11,
   "id": "c81b98a5-7950-49e1-a0d3-1f145771ca9a",
   "metadata": {},
   "outputs": [],
   "source": [
    "# Fill Null values or replace all the null values of dataset by the mode value.\n",
    "for col in objects:\n",
    "    df[col] = df[col].fillna(value=df[col].mode()[0])"
   ]
  },
  {
   "cell_type": "code",
   "execution_count": 12,
   "id": "409281df-bb68-4d4e-bc2c-449dda04a3d6",
   "metadata": {},
   "outputs": [
    {
     "data": {
      "text/plain": [
       "Segment          0\n",
       "Country          0\n",
       "Product          0\n",
       "Discount Band    0\n",
       "Month Name       0\n",
       "dtype: int64"
      ]
     },
     "execution_count": 12,
     "metadata": {},
     "output_type": "execute_result"
    }
   ],
   "source": [
    "df.select_dtypes(include='object').isnull().sum()"
   ]
  },
  {
   "cell_type": "markdown",
   "id": "253b9fd1-5899-48ac-ab4c-0472cb141ada",
   "metadata": {},
   "source": [
    "# Filling categorical with mode and numerical with mean."
   ]
  },
  {
   "cell_type": "code",
   "execution_count": 13,
   "id": "f27b71cd-4273-4766-a05d-c89886e4dece",
   "metadata": {},
   "outputs": [],
   "source": [
    "for col in categorical:\n",
    "    df[col] = df[col].fillna(value=df[col].mode()[0])"
   ]
  },
  {
   "cell_type": "code",
   "execution_count": 14,
   "id": "8eff915a-4b20-4a0d-b30f-1048f30ae618",
   "metadata": {},
   "outputs": [
    {
     "data": {
      "text/plain": [
       "Segment                0\n",
       "Country                0\n",
       "Product                0\n",
       "Discount Band          0\n",
       "Units Sold             5\n",
       "Manufacturing Price    0\n",
       "Sale Price             7\n",
       "Gross Sales            5\n",
       "Discounts              5\n",
       "Sales                  0\n",
       "COGS                   0\n",
       "Profit                 0\n",
       "Date                   0\n",
       "Month Number           0\n",
       "Month Name             0\n",
       "Year                   0\n",
       "dtype: int64"
      ]
     },
     "execution_count": 14,
     "metadata": {},
     "output_type": "execute_result"
    }
   ],
   "source": [
    "df.isnull().sum()"
   ]
  },
  {
   "cell_type": "code",
   "execution_count": 15,
   "id": "1b805fd2-eefe-4c47-bdd3-de4534bfdc1c",
   "metadata": {},
   "outputs": [
    {
     "name": "stdout",
     "output_type": "stream",
     "text": [
      "Missing Values Percentage : 3.14 %\n"
     ]
    }
   ],
   "source": [
    "# Null dataset percentage\n",
    "print(\"Missing Values Percentage :\",round(df.isnull().sum().sum()/df.shape[0]*100,2),'%')"
   ]
  },
  {
   "cell_type": "code",
   "execution_count": 16,
   "id": "d1668a39-f410-441e-8d0a-7554af9701b7",
   "metadata": {},
   "outputs": [
    {
     "data": {
      "text/plain": [
       "Index(['Manufacturing Price', 'Month Number', 'Year'], dtype='object')"
      ]
     },
     "execution_count": 16,
     "metadata": {},
     "output_type": "execute_result"
    }
   ],
   "source": [
    "# Numerical Dataset (int)\n",
    "ints = df.select_dtypes(include=int).columns\n",
    "ints"
   ]
  },
  {
   "cell_type": "code",
   "execution_count": 17,
   "id": "06c9735b-93dd-440e-95d0-f6976f87b289",
   "metadata": {},
   "outputs": [
    {
     "data": {
      "text/plain": [
       "Manufacturing Price    0\n",
       "Month Number           0\n",
       "Year                   0\n",
       "dtype: int64"
      ]
     },
     "execution_count": 17,
     "metadata": {},
     "output_type": "execute_result"
    }
   ],
   "source": [
    "df.select_dtypes(include=int).isnull().sum()"
   ]
  },
  {
   "cell_type": "code",
   "execution_count": 18,
   "id": "c4665c0b-9859-4db3-95d5-43a3891cab06",
   "metadata": {},
   "outputs": [
    {
     "name": "stdout",
     "output_type": "stream",
     "text": [
      "Total Profit :  16893702.26\n"
     ]
    }
   ],
   "source": [
    "print(\"Total Profit : \", round(df.Profit.sum(),2))"
   ]
  },
  {
   "cell_type": "code",
   "execution_count": 19,
   "id": "a1b738d9-19b7-4473-b943-5562ecbc7dd7",
   "metadata": {},
   "outputs": [
    {
     "data": {
      "text/plain": [
       "['Units Sold',\n",
       " 'Sale Price',\n",
       " 'Gross Sales',\n",
       " 'Discounts',\n",
       " 'Sales',\n",
       " 'COGS',\n",
       " 'Profit']"
      ]
     },
     "execution_count": 19,
     "metadata": {},
     "output_type": "execute_result"
    }
   ],
   "source": [
    "# Numerical Dataset (float)\n",
    "floats = list(df.select_dtypes(include=float).columns)\n",
    "floats"
   ]
  },
  {
   "cell_type": "code",
   "execution_count": 20,
   "id": "551e9bd7-7aa9-4c65-8ad1-f7df332bc957",
   "metadata": {},
   "outputs": [
    {
     "data": {
      "text/plain": [
       "Units Sold     5\n",
       "Sale Price     7\n",
       "Gross Sales    5\n",
       "Discounts      5\n",
       "Sales          0\n",
       "COGS           0\n",
       "Profit         0\n",
       "dtype: int64"
      ]
     },
     "execution_count": 20,
     "metadata": {},
     "output_type": "execute_result"
    }
   ],
   "source": [
    "df.select_dtypes(include=float).isnull().sum()"
   ]
  },
  {
   "cell_type": "code",
   "execution_count": 21,
   "id": "79ba69d5-a178-411b-8c6d-a9fc28c9c8b2",
   "metadata": {},
   "outputs": [],
   "source": [
    "# Fill or replace all null values with the mean (average value of the column)\n",
    "for col in floats:\n",
    "    df[col] = df[col].fillna(value=df[col].mean())"
   ]
  },
  {
   "cell_type": "code",
   "execution_count": 22,
   "id": "1b9ce910-8860-4b33-87ea-8851177065af",
   "metadata": {},
   "outputs": [
    {
     "data": {
      "text/plain": [
       "Units Sold     0\n",
       "Sale Price     0\n",
       "Gross Sales    0\n",
       "Discounts      0\n",
       "Sales          0\n",
       "COGS           0\n",
       "Profit         0\n",
       "dtype: int64"
      ]
     },
     "execution_count": 22,
     "metadata": {},
     "output_type": "execute_result"
    }
   ],
   "source": [
    "df.select_dtypes(include=float).isnull().sum()"
   ]
  },
  {
   "cell_type": "markdown",
   "id": "8558ee64-4b55-471f-8067-381f5ae7dc05",
   "metadata": {},
   "source": [
    "***there is no null value laft***"
   ]
  },
  {
   "cell_type": "code",
   "execution_count": 23,
   "id": "007f42ef-2fd9-4e86-beeb-cb0fc33b5502",
   "metadata": {},
   "outputs": [
    {
     "data": {
      "text/plain": [
       "Segment                0\n",
       "Country                0\n",
       "Product                0\n",
       "Discount Band          0\n",
       "Units Sold             0\n",
       "Manufacturing Price    0\n",
       "Sale Price             0\n",
       "Gross Sales            0\n",
       "Discounts              0\n",
       "Sales                  0\n",
       "COGS                   0\n",
       "Profit                 0\n",
       "Date                   0\n",
       "Month Number           0\n",
       "Month Name             0\n",
       "Year                   0\n",
       "dtype: int64"
      ]
     },
     "execution_count": 23,
     "metadata": {},
     "output_type": "execute_result"
    }
   ],
   "source": [
    "# All Dataset is cleaned\n",
    "df.isnull().sum()"
   ]
  },
  {
   "cell_type": "markdown",
   "id": "d379c2cf-b36e-4e6b-8328-d2dc873f55ff",
   "metadata": {},
   "source": [
    "# Segments"
   ]
  },
  {
   "cell_type": "code",
   "execution_count": 24,
   "id": "27e97b9d-2f0c-4a9c-9135-9bd705cca9d7",
   "metadata": {},
   "outputs": [
    {
     "name": "stdout",
     "output_type": "stream",
     "text": [
      "['Government' 'Midmarket' 'Channel Partners' 'Enterprise' 'Small Business']\n",
      "Total segment :  5\n"
     ]
    }
   ],
   "source": [
    "print(df.Segment.unique())\n",
    "print(\"Total segment : \", len(df.Segment.unique()))"
   ]
  },
  {
   "cell_type": "code",
   "execution_count": 38,
   "id": "4ff4d596-cc2a-4eab-b711-b59fee1232da",
   "metadata": {},
   "outputs": [
    {
     "data": {
      "text/html": [
       "<div>\n",
       "<style scoped>\n",
       "    .dataframe tbody tr th:only-of-type {\n",
       "        vertical-align: middle;\n",
       "    }\n",
       "\n",
       "    .dataframe tbody tr th {\n",
       "        vertical-align: top;\n",
       "    }\n",
       "\n",
       "    .dataframe thead th {\n",
       "        text-align: right;\n",
       "    }\n",
       "</style>\n",
       "<table border=\"1\" class=\"dataframe\">\n",
       "  <thead>\n",
       "    <tr style=\"text-align: right;\">\n",
       "      <th></th>\n",
       "      <th>Segment</th>\n",
       "      <th>Profit</th>\n",
       "    </tr>\n",
       "  </thead>\n",
       "  <tbody>\n",
       "    <tr>\n",
       "      <th>0</th>\n",
       "      <td>Channel Partners</td>\n",
       "      <td>12.908083</td>\n",
       "    </tr>\n",
       "    <tr>\n",
       "      <th>1</th>\n",
       "      <td>Enterprise</td>\n",
       "      <td>-6.145456</td>\n",
       "    </tr>\n",
       "    <tr>\n",
       "      <th>2</th>\n",
       "      <td>Government</td>\n",
       "      <td>114.141681</td>\n",
       "    </tr>\n",
       "    <tr>\n",
       "      <th>3</th>\n",
       "      <td>Midmarket</td>\n",
       "      <td>6.601031</td>\n",
       "    </tr>\n",
       "    <tr>\n",
       "      <th>4</th>\n",
       "      <td>Small Business</td>\n",
       "      <td>41.431685</td>\n",
       "    </tr>\n",
       "  </tbody>\n",
       "</table>\n",
       "</div>"
      ],
      "text/plain": [
       "            Segment      Profit\n",
       "0  Channel Partners   12.908083\n",
       "1        Enterprise   -6.145456\n",
       "2        Government  114.141681\n",
       "3         Midmarket    6.601031\n",
       "4    Small Business   41.431685"
      ]
     },
     "execution_count": 38,
     "metadata": {},
     "output_type": "execute_result"
    }
   ],
   "source": [
    "# Profit by Segment\n",
    "pbs = df.groupby(['Segment']).agg({'Profit':'sum'}).reset_index()\n",
    "pbs.Profit = pbs.Profit/100000\n",
    "pbs"
   ]
  },
  {
   "cell_type": "code",
   "execution_count": 39,
   "id": "3eae83c0-5899-4857-9cd9-53c898ea8444",
   "metadata": {},
   "outputs": [
    {
     "data": {
      "text/plain": [
       "array(['CAN', 'GER', 'FRA', 'MEX', 'USA'], dtype=object)"
      ]
     },
     "execution_count": 39,
     "metadata": {},
     "output_type": "execute_result"
    }
   ],
   "source": [
    "df.Country.unique()"
   ]
  },
  {
   "cell_type": "code",
   "execution_count": 40,
   "id": "0e4c02ef-3368-4f74-9887-17d651db8174",
   "metadata": {},
   "outputs": [
    {
     "data": {
      "text/plain": [
       "array(['CAN', 'GER', 'FRA', 'MEX', 'USA'], dtype=object)"
      ]
     },
     "execution_count": 40,
     "metadata": {},
     "output_type": "execute_result"
    }
   ],
   "source": [
    "# Converting all Countries name into 3 letters and in upper case\n",
    "df.Country = df.Country.map(lambda val : 'USA' if val=='United States of America' else val[0:3].upper())\n",
    "df.Country.unique()"
   ]
  },
  {
   "cell_type": "code",
   "execution_count": 41,
   "id": "1eb162a1-b84f-4997-a479-6b133bc7741d",
   "metadata": {},
   "outputs": [
    {
     "name": "stdout",
     "output_type": "stream",
     "text": [
      "118726350.25999999\n"
     ]
    }
   ],
   "source": [
    "total_sales = df['Sales'].sum()\n",
    "print(total_sales)"
   ]
  },
  {
   "cell_type": "code",
   "execution_count": null,
   "id": "28c77525-9f4b-4ed0-a89d-d91ab16d0f8f",
   "metadata": {},
   "outputs": [],
   "source": []
  },
  {
   "cell_type": "code",
   "execution_count": 32,
   "id": "bee2bf07-03a3-43a4-a853-c2d2986f6f24",
   "metadata": {},
   "outputs": [
    {
     "data": {
      "text/html": [
       "<div>\n",
       "<style scoped>\n",
       "    .dataframe tbody tr th:only-of-type {\n",
       "        vertical-align: middle;\n",
       "    }\n",
       "\n",
       "    .dataframe tbody tr th {\n",
       "        vertical-align: top;\n",
       "    }\n",
       "\n",
       "    .dataframe thead th {\n",
       "        text-align: right;\n",
       "    }\n",
       "</style>\n",
       "<table border=\"1\" class=\"dataframe\">\n",
       "  <thead>\n",
       "    <tr style=\"text-align: right;\">\n",
       "      <th></th>\n",
       "      <th>Country</th>\n",
       "      <th>Sales</th>\n",
       "      <th>Profit</th>\n",
       "    </tr>\n",
       "  </thead>\n",
       "  <tbody>\n",
       "    <tr>\n",
       "      <th>0</th>\n",
       "      <td>CAN</td>\n",
       "      <td>2.400017e+07</td>\n",
       "      <td>3359437.935</td>\n",
       "    </tr>\n",
       "    <tr>\n",
       "      <th>1</th>\n",
       "      <td>FRA</td>\n",
       "      <td>2.711725e+07</td>\n",
       "      <td>4297445.980</td>\n",
       "    </tr>\n",
       "    <tr>\n",
       "      <th>2</th>\n",
       "      <td>GER</td>\n",
       "      <td>2.290578e+07</td>\n",
       "      <td>3624167.730</td>\n",
       "    </tr>\n",
       "    <tr>\n",
       "      <th>3</th>\n",
       "      <td>MEX</td>\n",
       "      <td>2.084595e+07</td>\n",
       "      <td>2889313.870</td>\n",
       "    </tr>\n",
       "    <tr>\n",
       "      <th>4</th>\n",
       "      <td>USA</td>\n",
       "      <td>2.385720e+07</td>\n",
       "      <td>2723336.745</td>\n",
       "    </tr>\n",
       "  </tbody>\n",
       "</table>\n",
       "</div>"
      ],
      "text/plain": [
       "  Country         Sales       Profit\n",
       "0     CAN  2.400017e+07  3359437.935\n",
       "1     FRA  2.711725e+07  4297445.980\n",
       "2     GER  2.290578e+07  3624167.730\n",
       "3     MEX  2.084595e+07  2889313.870\n",
       "4     USA  2.385720e+07  2723336.745"
      ]
     },
     "execution_count": 32,
     "metadata": {},
     "output_type": "execute_result"
    }
   ],
   "source": [
    "pn = (df.groupby(['Country'])\n",
    "       .agg({'Sales':'sum', 'Profit':'sum'})\n",
    "       .reset_index()\n",
    "      )\n",
    "pn"
   ]
  },
  {
   "cell_type": "code",
   "execution_count": 42,
   "id": "37869737-1669-4a4d-ae03-691241280457",
   "metadata": {},
   "outputs": [],
   "source": [
    "# Selecting color for plot\n",
    "color1 = []\n",
    "color2 = []\n",
    "for val in df['Profit']:\n",
    "    if val>0:\n",
    "        color1.append('lightgreen')\n",
    "    else:\n",
    "        color1.append('red')\n",
    "        \n",
    "for val in df['Profit']:\n",
    "    if val>0:\n",
    "        color2.append('skyblue')\n",
    "    else:\n",
    "        color2.append('red')"
   ]
  },
  {
   "cell_type": "code",
   "execution_count": 37,
   "id": "cb41d685-0df0-4fbf-b4df-c78b077ea1ac",
   "metadata": {},
   "outputs": [
    {
     "data": {
      "image/png": "[encoded data removed]",
      "text/plain": [
       "<Figure size 640x480 with 2 Axes>"
      ]
     },
     "metadata": {},
     "output_type": "display_data"
    }
   ],
   "source": [
    "# A Plot on Profit by Segment and Country\n",
    "plt.subplot(2,1,1)\n",
    "plt.bar(df['Segment'],df['Profit'],color=color1)\n",
    "plt.ylabel('Rupees in Lac')\n",
    "plt.subplot(2,1,2)\n",
    "plt.bar(df['Country'],df['Profit'],color=color2)\n",
    "plt.ylabel(\"Rupees in Lac\")\n",
    "plt.suptitle(\"PROFIT BY SEGMENT AND COUNTRY\")\n",
    "plt.show()"
   ]
  },
  {
   "cell_type": "code",
   "execution_count": 44,
   "id": "1b33a0f1-fe38-40cd-ae14-d779b69fb7d6",
   "metadata": {},
   "outputs": [
    {
     "data": {
      "text/html": [
       "<div>\n",
       "<style scoped>\n",
       "    .dataframe tbody tr th:only-of-type {\n",
       "        vertical-align: middle;\n",
       "    }\n",
       "\n",
       "    .dataframe tbody tr th {\n",
       "        vertical-align: top;\n",
       "    }\n",
       "\n",
       "    .dataframe thead th {\n",
       "        text-align: right;\n",
       "    }\n",
       "</style>\n",
       "<table border=\"1\" class=\"dataframe\">\n",
       "  <thead>\n",
       "    <tr style=\"text-align: right;\">\n",
       "      <th></th>\n",
       "      <th>Product</th>\n",
       "      <th>Sales</th>\n",
       "    </tr>\n",
       "  </thead>\n",
       "  <tbody>\n",
       "    <tr>\n",
       "      <th>0</th>\n",
       "      <td>Amarilla</td>\n",
       "      <td>1.640623</td>\n",
       "    </tr>\n",
       "    <tr>\n",
       "      <th>1</th>\n",
       "      <td>Carretera</td>\n",
       "      <td>1.323326</td>\n",
       "    </tr>\n",
       "    <tr>\n",
       "      <th>2</th>\n",
       "      <td>Montana</td>\n",
       "      <td>1.539080</td>\n",
       "    </tr>\n",
       "    <tr>\n",
       "      <th>3</th>\n",
       "      <td>Paseo</td>\n",
       "      <td>3.600527</td>\n",
       "    </tr>\n",
       "    <tr>\n",
       "      <th>4</th>\n",
       "      <td>VTT</td>\n",
       "      <td>1.968432</td>\n",
       "    </tr>\n",
       "    <tr>\n",
       "      <th>5</th>\n",
       "      <td>Velo</td>\n",
       "      <td>1.800647</td>\n",
       "    </tr>\n",
       "  </tbody>\n",
       "</table>\n",
       "</div>"
      ],
      "text/plain": [
       "     Product     Sales\n",
       "0   Amarilla  1.640623\n",
       "1  Carretera  1.323326\n",
       "2    Montana  1.539080\n",
       "3      Paseo  3.600527\n",
       "4        VTT  1.968432\n",
       "5       Velo  1.800647"
      ]
     },
     "execution_count": 44,
     "metadata": {},
     "output_type": "execute_result"
    }
   ],
   "source": [
    "# Sales By Product\n",
    "sbp = df.groupby(['Product']).agg({'Sales':'sum'}).reset_index()\n",
    "sbp['Sales'] = sbp['Sales']/10000000\n",
    "sbp"
   ]
  },
  {
   "cell_type": "code",
   "execution_count": 45,
   "id": "db005d3e-cd22-4f4f-ae17-cbfd612c06fa",
   "metadata": {},
   "outputs": [],
   "source": [
    "# Selecting color for sales\n",
    "color1 = []\n",
    "for val in sbp['Sales']:\n",
    "    if val>sbp['Sales'].mean():\n",
    "        color1.append('green')\n",
    "    else:\n",
    "        color1.append('lightgreen')"
   ]
  },
  {
   "cell_type": "code",
   "execution_count": 46,
   "id": "85d0a7c1-f3eb-4083-b823-6edd1c162cf7",
   "metadata": {},
   "outputs": [
    {
     "data": {
      "image/png": "[encoded data removed]",
      "text/plain": [
       "<Figure size 700x300 with 1 Axes>"
      ]
     },
     "metadata": {},
     "output_type": "display_data"
    }
   ],
   "source": [
    "# Plot to show sales by Product\n",
    "plt.figure(figsize=(7,3))\n",
    "plt.bar(sbp['Product'],sbp['Sales'],color=color1)\n",
    "plt.ylabel('Amount in Crores')\n",
    "plt.show()"
   ]
  },
  {
   "cell_type": "code",
   "execution_count": null,
   "id": "fde972b4-4443-459b-9ec5-80c0fc3cf11f",
   "metadata": {},
   "outputs": [],
   "source": [
    "df.head(2)"
   ]
  },
  {
   "cell_type": "code",
   "execution_count": 47,
   "id": "b040c9a8-da8e-4062-a663-14a6e821055b",
   "metadata": {},
   "outputs": [
    {
     "name": "stdout",
     "output_type": "stream",
     "text": [
      "<class 'pandas.core.frame.DataFrame'>\n",
      "RangeIndex: 16 entries, 0 to 15\n",
      "Data columns (total 2 columns):\n",
      " #   Column       Non-Null Count  Dtype         \n",
      "---  ------       --------------  -----         \n",
      " 0   Date         16 non-null     datetime64[ns]\n",
      " 1   Gross Sales  16 non-null     float64       \n",
      "dtypes: datetime64[ns](1), float64(1)\n",
      "memory usage: 388.0 bytes\n"
     ]
    }
   ],
   "source": [
    "# Calculating the gross sales of everymonth\n",
    "gsbm = df.groupby(['Date']).agg({'Gross Sales':'sum'}).reset_index()\n",
    "gsbm['Gross Sales']=round(gsbm['Gross Sales']/1000000,2)\n",
    "gsbm.info()"
   ]
  },
  {
   "cell_type": "code",
   "execution_count": null,
   "id": "3969a83c-178e-49b1-b5b8-afe009b559cb",
   "metadata": {},
   "outputs": [],
   "source": [
    "gsbm.Date = gsbm.Date.map(lambda val : str(val)[0:7])"
   ]
  },
  {
   "cell_type": "code",
   "execution_count": null,
   "id": "139a65cd-9a4e-42e2-96c6-ff04f7da11d6",
   "metadata": {},
   "outputs": [],
   "source": [
    "gsbm.info()"
   ]
  },
  {
   "cell_type": "code",
   "execution_count": null,
   "id": "027364ff-51e4-4d37-9e1a-d48d69b876aa",
   "metadata": {},
   "outputs": [],
   "source": [
    "gsbm.head(2)"
   ]
  },
  {
   "cell_type": "code",
   "execution_count": null,
   "id": "c0a95d64-9926-4b89-a584-d60dc3c828f2",
   "metadata": {},
   "outputs": [],
   "source": [
    "labels = []\n",
    "for i in range(len(gsbm['Date'])):\n",
    "    labels.append(gsbm['Date'][i]+\"-:-\"+str(gsbm['Gross Sales'][i])+\"M\")"
   ]
  },
  {
   "cell_type": "code",
   "execution_count": null,
   "id": "dc578548-d084-4cd0-b6f4-7dc2829cf484",
   "metadata": {},
   "outputs": [],
   "source": [
    "plt.pie(gsbm['Gross Sales'],labels=labels)\n",
    "plt.show()"
   ]
  }
 ],
 "metadata": {
  "kernelspec": {
   "display_name": "Python 3 (ipykernel)",
   "language": "python",
   "name": "python3"
  },
  "language_info": {
   "codemirror_mode": {
    "name": "ipython",
    "version": 3
   },
   "file_extension": ".py",
   "mimetype": "text/x-python",
   "name": "python",
   "nbconvert_exporter": "python",
   "pygments_lexer": "ipython3",
   "version": "3.11.7"
  }
 },
 "nbformat": 4,
 "nbformat_minor": 5
}
