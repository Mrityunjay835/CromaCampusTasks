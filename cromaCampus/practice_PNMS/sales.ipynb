{
 "cells": [
  {
   "cell_type": "code",
   "execution_count": 1,
   "id": "b7257dd6-7b1a-4573-893f-820850704853",
   "metadata": {},
   "outputs": [
    {
     "name": "stdout",
     "output_type": "stream",
     "text": [
      "Requirement already satisfied: pandas in /home/mrityunjay/anaconda3/lib/python3.11/site-packages (2.1.4)\n",
      "Requirement already satisfied: numpy in /home/mrityunjay/anaconda3/lib/python3.11/site-packages (1.26.4)\n",
      "Requirement already satisfied: matplotlib in /home/mrityunjay/anaconda3/lib/python3.11/site-packages (3.8.0)\n",
      "Requirement already satisfied: seaborn in /home/mrityunjay/anaconda3/lib/python3.11/site-packages (0.12.2)\n",
      "Requirement already satisfied: python-dateutil>=2.8.2 in /home/mrityunjay/anaconda3/lib/python3.11/site-packages (from pandas) (2.8.2)\n",
      "Requirement already satisfied: pytz>=2020.1 in /home/mrityunjay/anaconda3/lib/python3.11/site-packages (from pandas) (2023.3.post1)\n",
      "Requirement already satisfied: tzdata>=2022.1 in /home/mrityunjay/anaconda3/lib/python3.11/site-packages (from pandas) (2025.2)\n",
      "Requirement already satisfied: contourpy>=1.0.1 in /home/mrityunjay/anaconda3/lib/python3.11/site-packages (from matplotlib) (1.2.0)\n",
      "Requirement already satisfied: cycler>=0.10 in /home/mrityunjay/anaconda3/lib/python3.11/site-packages (from matplotlib) (0.11.0)\n",
      "Requirement already satisfied: fonttools>=4.22.0 in /home/mrityunjay/anaconda3/lib/python3.11/site-packages (from matplotlib) (4.25.0)\n",
      "Requirement already satisfied: kiwisolver>=1.0.1 in /home/mrityunjay/anaconda3/lib/python3.11/site-packages (from matplotlib) (1.4.4)\n",
      "Requirement already satisfied: packaging>=20.0 in /home/mrityunjay/anaconda3/lib/python3.11/site-packages (from matplotlib) (25.0)\n",
      "Requirement already satisfied: pillow>=6.2.0 in /home/mrityunjay/anaconda3/lib/python3.11/site-packages (from matplotlib) (10.2.0)\n",
      "Requirement already satisfied: pyparsing>=2.3.1 in /home/mrityunjay/anaconda3/lib/python3.11/site-packages (from matplotlib) (3.2.3)\n",
      "Requirement already satisfied: six>=1.5 in /home/mrityunjay/anaconda3/lib/python3.11/site-packages (from python-dateutil>=2.8.2->pandas) (1.16.0)\n"
     ]
    }
   ],
   "source": [
    "!pip install pandas numpy matplotlib seaborn"
   ]
  },
  {
   "cell_type": "markdown",
   "id": "4619148d-348c-4c87-b0c4-31c42e8b7cb2",
   "metadata": {},
   "source": [
    "# Exercise Questions\n",
    " ***Pandas***\n",
    "1. Load a CSV file containing student data (Name, Age, Marks, City).\n",
    "o Display the first 10 rows.\n",
    "o Show the shape, column names, and info.\n",
    "2. From a sales dataset (OrderID, Product, Quantity, Price, City):\n",
    "o Find total sales (Quantity × Price).\n",
    "o Group sales by City and find the highest.\n",
    "o Find the top 3 products sold.\n",
    "3. Create a DataFrame of employees (EmpID, Name, Department, Salary).\n",
    "o Filter employees with salary greater than 50,000.\n",
    "o Sort by Salary in descending order.\n",
    "o Find the average salary per department.\n",
    "\n",
    "\n",
    "\n",
    " ***NumPy***\n",
    "5. Create a NumPy array of integers from 1 to 20.\n",
    "o Reshape it into a 4×5 matrix.\n",
    "o Find the mean, max, and min.\n",
    "o Extract all even numbers.\n",
    "6. Generate two random 3×3 matrices.\n",
    "o Perform matrix multiplication.\n",
    "o Find the transpose and determinant.\n",
    "o Add and subtract the two matrices.\n",
    "7. Create a 1D NumPy array of size 10 with random numbers between 0 and 1.\n",
    "o Normalize the array (values between 0 and 1).\n",
    "o Find the index of the maximum value.\n",
    " \n",
    " \n",
    " \n",
    " ***Matplotlib***\n",
    "8. Plot the function y=x2y = x^2y=x2 for x in range -10 to 10.\n",
    "o Add labels, title, and grid.\n",
    "o Plot with red dashed line.\n",
    "9. Using sample sales data (Months vs Revenue):\n",
    "o Create a line chart of Revenue per month.\n",
    "o Highlight the maximum point with a marker.\n",
    "10. Create a bar chart for product sales:\n",
    "o Products = [‘A’, ‘B’, ‘C’, ‘D’], Sales = [50, 80, 30, 90].\n",
    "o Add different colors to bars.\n",
    "o Add values on top of bars.\n",
    " \n",
    " \n",
    " \n",
    " ***Seaborn***\n",
    "11. Load the tips dataset from seaborn.\n",
    "• Show distribution of total_bill using a histogram.\n",
    "• Create a boxplot of total_bill by day.\n",
    "12. Using the iris dataset:\n",
    "• Create a scatter plot of sepal_length vs sepal_width with species as hue.\n",
    "• Plot pairplot for all numeric columns.\n",
    "13. Using flights dataset:\n",
    "• Create a heatmap showing passengers by month and year.\n",
    "• Add annotations to show exact values."
   ]
  },
  {
   "cell_type": "code",
   "execution_count": 2,
   "id": "126908dd-1611-4b66-ab8d-93c6c0af0ade",
   "metadata": {},
   "outputs": [],
   "source": [
    "import pandas as pd\n",
    "import numpy as np\n",
    "import matplotlib.pyplot as plt\n",
    "import seaborn as sns"
   ]
  },
  {
   "cell_type": "markdown",
   "id": "1cd925de-4576-4e69-a604-3b1d806fac81",
   "metadata": {},
   "source": [
    " ***Pandas***\n",
    "1. Load a CSV file containing student data (Name, Age, Marks, City).\n",
    "o Display the first 10 rows.\n",
    "o Show the shape, column names, and info.\n"
   ]
  },
  {
   "cell_type": "code",
   "execution_count": 3,
   "id": "b32e7f45-edf5-4084-b22a-73f2d6cd8a2e",
   "metadata": {},
   "outputs": [],
   "source": [
    "#load the csv file that comming from the Excel using encoding = \"cp1252\"\n",
    "df = pd.read_csv(\"sales_dataset.csv\", encoding=\"cp1252\")"
   ]
  },
  {
   "cell_type": "code",
   "execution_count": 4,
   "id": "3b672620-d9e0-4619-867d-2e8f9d8b04e7",
   "metadata": {},
   "outputs": [
    {
     "data": {
      "text/html": [
       "<div>\n",
       "<style scoped>\n",
       "    .dataframe tbody tr th:only-of-type {\n",
       "        vertical-align: middle;\n",
       "    }\n",
       "\n",
       "    .dataframe tbody tr th {\n",
       "        vertical-align: top;\n",
       "    }\n",
       "\n",
       "    .dataframe thead th {\n",
       "        text-align: right;\n",
       "    }\n",
       "</style>\n",
       "<table border=\"1\" class=\"dataframe\">\n",
       "  <thead>\n",
       "    <tr style=\"text-align: right;\">\n",
       "      <th></th>\n",
       "      <th>ORDERNUMBER</th>\n",
       "      <th>QUANTITYORDERED</th>\n",
       "      <th>PRICEEACH</th>\n",
       "      <th>ORDERLINENUMBER</th>\n",
       "      <th>SALES</th>\n",
       "      <th>ORDERDATE</th>\n",
       "      <th>STATUS</th>\n",
       "      <th>QTR_ID</th>\n",
       "      <th>MONTH_ID</th>\n",
       "      <th>YEAR_ID</th>\n",
       "      <th>...</th>\n",
       "      <th>ADDRESSLINE1</th>\n",
       "      <th>ADDRESSLINE2</th>\n",
       "      <th>CITY</th>\n",
       "      <th>STATE</th>\n",
       "      <th>POSTALCODE</th>\n",
       "      <th>COUNTRY</th>\n",
       "      <th>TERRITORY</th>\n",
       "      <th>CONTACTLASTNAME</th>\n",
       "      <th>CONTACTFIRSTNAME</th>\n",
       "      <th>DEALSIZE</th>\n",
       "    </tr>\n",
       "  </thead>\n",
       "  <tbody>\n",
       "    <tr>\n",
       "      <th>0</th>\n",
       "      <td>10107</td>\n",
       "      <td>30</td>\n",
       "      <td>95.70</td>\n",
       "      <td>2</td>\n",
       "      <td>2871.00</td>\n",
       "      <td>2/24/2003 0:00</td>\n",
       "      <td>Shipped</td>\n",
       "      <td>1</td>\n",
       "      <td>2</td>\n",
       "      <td>2003</td>\n",
       "      <td>...</td>\n",
       "      <td>897 Long Airport Avenue</td>\n",
       "      <td>NaN</td>\n",
       "      <td>NYC</td>\n",
       "      <td>NY</td>\n",
       "      <td>10022</td>\n",
       "      <td>USA</td>\n",
       "      <td>NaN</td>\n",
       "      <td>Yu</td>\n",
       "      <td>Kwai</td>\n",
       "      <td>Small</td>\n",
       "    </tr>\n",
       "    <tr>\n",
       "      <th>1</th>\n",
       "      <td>10121</td>\n",
       "      <td>34</td>\n",
       "      <td>81.35</td>\n",
       "      <td>5</td>\n",
       "      <td>2765.90</td>\n",
       "      <td>5/7/2003 0:00</td>\n",
       "      <td>Shipped</td>\n",
       "      <td>2</td>\n",
       "      <td>5</td>\n",
       "      <td>2003</td>\n",
       "      <td>...</td>\n",
       "      <td>59 rue de l'Abbaye</td>\n",
       "      <td>NaN</td>\n",
       "      <td>Reims</td>\n",
       "      <td>NaN</td>\n",
       "      <td>51100</td>\n",
       "      <td>France</td>\n",
       "      <td>EMEA</td>\n",
       "      <td>Henriot</td>\n",
       "      <td>Paul</td>\n",
       "      <td>Small</td>\n",
       "    </tr>\n",
       "    <tr>\n",
       "      <th>2</th>\n",
       "      <td>10134</td>\n",
       "      <td>41</td>\n",
       "      <td>94.74</td>\n",
       "      <td>2</td>\n",
       "      <td>3884.34</td>\n",
       "      <td>7/1/2003 0:00</td>\n",
       "      <td>Shipped</td>\n",
       "      <td>3</td>\n",
       "      <td>7</td>\n",
       "      <td>2003</td>\n",
       "      <td>...</td>\n",
       "      <td>27 rue du Colonel Pierre Avia</td>\n",
       "      <td>NaN</td>\n",
       "      <td>Paris</td>\n",
       "      <td>NaN</td>\n",
       "      <td>75508</td>\n",
       "      <td>France</td>\n",
       "      <td>EMEA</td>\n",
       "      <td>Da Cunha</td>\n",
       "      <td>Daniel</td>\n",
       "      <td>Medium</td>\n",
       "    </tr>\n",
       "    <tr>\n",
       "      <th>3</th>\n",
       "      <td>10145</td>\n",
       "      <td>45</td>\n",
       "      <td>83.26</td>\n",
       "      <td>6</td>\n",
       "      <td>3746.70</td>\n",
       "      <td>8/25/2003 0:00</td>\n",
       "      <td>Shipped</td>\n",
       "      <td>3</td>\n",
       "      <td>8</td>\n",
       "      <td>2003</td>\n",
       "      <td>...</td>\n",
       "      <td>78934 Hillside Dr.</td>\n",
       "      <td>NaN</td>\n",
       "      <td>Pasadena</td>\n",
       "      <td>CA</td>\n",
       "      <td>90003</td>\n",
       "      <td>USA</td>\n",
       "      <td>NaN</td>\n",
       "      <td>Young</td>\n",
       "      <td>Julie</td>\n",
       "      <td>Medium</td>\n",
       "    </tr>\n",
       "    <tr>\n",
       "      <th>4</th>\n",
       "      <td>10159</td>\n",
       "      <td>49</td>\n",
       "      <td>100.00</td>\n",
       "      <td>14</td>\n",
       "      <td>5205.27</td>\n",
       "      <td>10/10/2003 0:00</td>\n",
       "      <td>Shipped</td>\n",
       "      <td>4</td>\n",
       "      <td>10</td>\n",
       "      <td>2003</td>\n",
       "      <td>...</td>\n",
       "      <td>7734 Strong St.</td>\n",
       "      <td>NaN</td>\n",
       "      <td>San Francisco</td>\n",
       "      <td>CA</td>\n",
       "      <td>NaN</td>\n",
       "      <td>USA</td>\n",
       "      <td>NaN</td>\n",
       "      <td>Brown</td>\n",
       "      <td>Julie</td>\n",
       "      <td>Medium</td>\n",
       "    </tr>\n",
       "    <tr>\n",
       "      <th>5</th>\n",
       "      <td>10168</td>\n",
       "      <td>36</td>\n",
       "      <td>96.66</td>\n",
       "      <td>1</td>\n",
       "      <td>3479.76</td>\n",
       "      <td>10/28/2003 0:00</td>\n",
       "      <td>Shipped</td>\n",
       "      <td>4</td>\n",
       "      <td>10</td>\n",
       "      <td>2003</td>\n",
       "      <td>...</td>\n",
       "      <td>9408 Furth Circle</td>\n",
       "      <td>NaN</td>\n",
       "      <td>Burlingame</td>\n",
       "      <td>CA</td>\n",
       "      <td>94217</td>\n",
       "      <td>USA</td>\n",
       "      <td>NaN</td>\n",
       "      <td>Hirano</td>\n",
       "      <td>Juri</td>\n",
       "      <td>Medium</td>\n",
       "    </tr>\n",
       "    <tr>\n",
       "      <th>6</th>\n",
       "      <td>10180</td>\n",
       "      <td>29</td>\n",
       "      <td>86.13</td>\n",
       "      <td>9</td>\n",
       "      <td>2497.77</td>\n",
       "      <td>11/11/2003 0:00</td>\n",
       "      <td>Shipped</td>\n",
       "      <td>4</td>\n",
       "      <td>11</td>\n",
       "      <td>2003</td>\n",
       "      <td>...</td>\n",
       "      <td>184, chausse de Tournai</td>\n",
       "      <td>NaN</td>\n",
       "      <td>Lille</td>\n",
       "      <td>NaN</td>\n",
       "      <td>59000</td>\n",
       "      <td>France</td>\n",
       "      <td>EMEA</td>\n",
       "      <td>Rance</td>\n",
       "      <td>Martine</td>\n",
       "      <td>Small</td>\n",
       "    </tr>\n",
       "    <tr>\n",
       "      <th>7</th>\n",
       "      <td>10188</td>\n",
       "      <td>48</td>\n",
       "      <td>100.00</td>\n",
       "      <td>1</td>\n",
       "      <td>5512.32</td>\n",
       "      <td>11/18/2003 0:00</td>\n",
       "      <td>Shipped</td>\n",
       "      <td>4</td>\n",
       "      <td>11</td>\n",
       "      <td>2003</td>\n",
       "      <td>...</td>\n",
       "      <td>Drammen 121, PR 744 Sentrum</td>\n",
       "      <td>NaN</td>\n",
       "      <td>Bergen</td>\n",
       "      <td>NaN</td>\n",
       "      <td>N 5804</td>\n",
       "      <td>Norway</td>\n",
       "      <td>EMEA</td>\n",
       "      <td>Oeztan</td>\n",
       "      <td>Veysel</td>\n",
       "      <td>Medium</td>\n",
       "    </tr>\n",
       "    <tr>\n",
       "      <th>8</th>\n",
       "      <td>10201</td>\n",
       "      <td>22</td>\n",
       "      <td>98.57</td>\n",
       "      <td>2</td>\n",
       "      <td>2168.54</td>\n",
       "      <td>12/1/2003 0:00</td>\n",
       "      <td>Shipped</td>\n",
       "      <td>4</td>\n",
       "      <td>12</td>\n",
       "      <td>2003</td>\n",
       "      <td>...</td>\n",
       "      <td>5557 North Pendale Street</td>\n",
       "      <td>NaN</td>\n",
       "      <td>San Francisco</td>\n",
       "      <td>CA</td>\n",
       "      <td>NaN</td>\n",
       "      <td>USA</td>\n",
       "      <td>NaN</td>\n",
       "      <td>Murphy</td>\n",
       "      <td>Julie</td>\n",
       "      <td>Small</td>\n",
       "    </tr>\n",
       "    <tr>\n",
       "      <th>9</th>\n",
       "      <td>10211</td>\n",
       "      <td>41</td>\n",
       "      <td>100.00</td>\n",
       "      <td>14</td>\n",
       "      <td>4708.44</td>\n",
       "      <td>1/15/2004 0:00</td>\n",
       "      <td>Shipped</td>\n",
       "      <td>1</td>\n",
       "      <td>1</td>\n",
       "      <td>2004</td>\n",
       "      <td>...</td>\n",
       "      <td>25, rue Lauriston</td>\n",
       "      <td>NaN</td>\n",
       "      <td>Paris</td>\n",
       "      <td>NaN</td>\n",
       "      <td>75016</td>\n",
       "      <td>France</td>\n",
       "      <td>EMEA</td>\n",
       "      <td>Perrier</td>\n",
       "      <td>Dominique</td>\n",
       "      <td>Medium</td>\n",
       "    </tr>\n",
       "  </tbody>\n",
       "</table>\n",
       "<p>10 rows × 25 columns</p>\n",
       "</div>"
      ],
      "text/plain": [
       "   ORDERNUMBER  QUANTITYORDERED  PRICEEACH  ORDERLINENUMBER    SALES  \\\n",
       "0        10107               30      95.70                2  2871.00   \n",
       "1        10121               34      81.35                5  2765.90   \n",
       "2        10134               41      94.74                2  3884.34   \n",
       "3        10145               45      83.26                6  3746.70   \n",
       "4        10159               49     100.00               14  5205.27   \n",
       "5        10168               36      96.66                1  3479.76   \n",
       "6        10180               29      86.13                9  2497.77   \n",
       "7        10188               48     100.00                1  5512.32   \n",
       "8        10201               22      98.57                2  2168.54   \n",
       "9        10211               41     100.00               14  4708.44   \n",
       "\n",
       "         ORDERDATE   STATUS  QTR_ID  MONTH_ID  YEAR_ID  ...  \\\n",
       "0   2/24/2003 0:00  Shipped       1         2     2003  ...   \n",
       "1    5/7/2003 0:00  Shipped       2         5     2003  ...   \n",
       "2    7/1/2003 0:00  Shipped       3         7     2003  ...   \n",
       "3   8/25/2003 0:00  Shipped       3         8     2003  ...   \n",
       "4  10/10/2003 0:00  Shipped       4        10     2003  ...   \n",
       "5  10/28/2003 0:00  Shipped       4        10     2003  ...   \n",
       "6  11/11/2003 0:00  Shipped       4        11     2003  ...   \n",
       "7  11/18/2003 0:00  Shipped       4        11     2003  ...   \n",
       "8   12/1/2003 0:00  Shipped       4        12     2003  ...   \n",
       "9   1/15/2004 0:00  Shipped       1         1     2004  ...   \n",
       "\n",
       "                    ADDRESSLINE1  ADDRESSLINE2           CITY STATE  \\\n",
       "0        897 Long Airport Avenue           NaN            NYC    NY   \n",
       "1             59 rue de l'Abbaye           NaN          Reims   NaN   \n",
       "2  27 rue du Colonel Pierre Avia           NaN          Paris   NaN   \n",
       "3             78934 Hillside Dr.           NaN       Pasadena    CA   \n",
       "4                7734 Strong St.           NaN  San Francisco    CA   \n",
       "5              9408 Furth Circle           NaN     Burlingame    CA   \n",
       "6        184, chausse de Tournai           NaN          Lille   NaN   \n",
       "7    Drammen 121, PR 744 Sentrum           NaN         Bergen   NaN   \n",
       "8      5557 North Pendale Street           NaN  San Francisco    CA   \n",
       "9              25, rue Lauriston           NaN          Paris   NaN   \n",
       "\n",
       "  POSTALCODE COUNTRY TERRITORY CONTACTLASTNAME CONTACTFIRSTNAME DEALSIZE  \n",
       "0      10022     USA       NaN              Yu             Kwai    Small  \n",
       "1      51100  France      EMEA         Henriot             Paul    Small  \n",
       "2      75508  France      EMEA        Da Cunha           Daniel   Medium  \n",
       "3      90003     USA       NaN           Young            Julie   Medium  \n",
       "4        NaN     USA       NaN           Brown            Julie   Medium  \n",
       "5      94217     USA       NaN          Hirano             Juri   Medium  \n",
       "6      59000  France      EMEA           Rance          Martine    Small  \n",
       "7     N 5804  Norway      EMEA          Oeztan           Veysel   Medium  \n",
       "8        NaN     USA       NaN          Murphy            Julie    Small  \n",
       "9      75016  France      EMEA         Perrier        Dominique   Medium  \n",
       "\n",
       "[10 rows x 25 columns]"
      ]
     },
     "execution_count": 4,
     "metadata": {},
     "output_type": "execute_result"
    }
   ],
   "source": [
    "# display top 10 rows\n",
    "df.head(10)"
   ]
  },
  {
   "cell_type": "code",
   "execution_count": 5,
   "id": "6dd962a0-0e55-4a27-aa42-6c62d36ccac5",
   "metadata": {},
   "outputs": [
    {
     "data": {
      "text/plain": [
       "(2823, 25)"
      ]
     },
     "metadata": {},
     "output_type": "display_data"
    },
    {
     "name": "stdout",
     "output_type": "stream",
     "text": [
      "<class 'pandas.core.frame.DataFrame'>\n",
      "RangeIndex: 2823 entries, 0 to 2822\n",
      "Data columns (total 25 columns):\n",
      " #   Column            Non-Null Count  Dtype  \n",
      "---  ------            --------------  -----  \n",
      " 0   ORDERNUMBER       2823 non-null   int64  \n",
      " 1   QUANTITYORDERED   2823 non-null   int64  \n",
      " 2   PRICEEACH         2823 non-null   float64\n",
      " 3   ORDERLINENUMBER   2823 non-null   int64  \n",
      " 4   SALES             2823 non-null   float64\n",
      " 5   ORDERDATE         2823 non-null   object \n",
      " 6   STATUS            2823 non-null   object \n",
      " 7   QTR_ID            2823 non-null   int64  \n",
      " 8   MONTH_ID          2823 non-null   int64  \n",
      " 9   YEAR_ID           2823 non-null   int64  \n",
      " 10  PRODUCTLINE       2823 non-null   object \n",
      " 11  MSRP              2823 non-null   int64  \n",
      " 12  PRODUCTCODE       2823 non-null   object \n",
      " 13  CUSTOMERNAME      2823 non-null   object \n",
      " 14  PHONE             2823 non-null   object \n",
      " 15  ADDRESSLINE1      2823 non-null   object \n",
      " 16  ADDRESSLINE2      302 non-null    object \n",
      " 17  CITY              2823 non-null   object \n",
      " 18  STATE             1337 non-null   object \n",
      " 19  POSTALCODE        2747 non-null   object \n",
      " 20  COUNTRY           2823 non-null   object \n",
      " 21  TERRITORY         1749 non-null   object \n",
      " 22  CONTACTLASTNAME   2823 non-null   object \n",
      " 23  CONTACTFIRSTNAME  2823 non-null   object \n",
      " 24  DEALSIZE          2823 non-null   object \n",
      "dtypes: float64(2), int64(7), object(16)\n",
      "memory usage: 551.5+ KB\n"
     ]
    }
   ],
   "source": [
    "#Show the shape, column names, and info.\n",
    "display(df.shape)\n",
    "df.info()"
   ]
  },
  {
   "cell_type": "code",
   "execution_count": 6,
   "id": "9abf21d8-6a78-4a6a-821d-e72feae608df",
   "metadata": {},
   "outputs": [
    {
     "data": {
      "text/plain": [
       "ORDERNUMBER            0\n",
       "QUANTITYORDERED        0\n",
       "PRICEEACH              0\n",
       "ORDERLINENUMBER        0\n",
       "SALES                  0\n",
       "ORDERDATE              0\n",
       "STATUS                 0\n",
       "QTR_ID                 0\n",
       "MONTH_ID               0\n",
       "YEAR_ID                0\n",
       "PRODUCTLINE            0\n",
       "MSRP                   0\n",
       "PRODUCTCODE            0\n",
       "CUSTOMERNAME           0\n",
       "PHONE                  0\n",
       "ADDRESSLINE1           0\n",
       "ADDRESSLINE2        2521\n",
       "CITY                   0\n",
       "STATE               1486\n",
       "POSTALCODE            76\n",
       "COUNTRY                0\n",
       "TERRITORY           1074\n",
       "CONTACTLASTNAME        0\n",
       "CONTACTFIRSTNAME       0\n",
       "DEALSIZE               0\n",
       "dtype: int64"
      ]
     },
     "execution_count": 6,
     "metadata": {},
     "output_type": "execute_result"
    }
   ],
   "source": [
    "df.isnull().sum()"
   ]
  },
  {
   "cell_type": "markdown",
   "id": "0228ce6f-710d-4c86-90c7-9eec743463de",
   "metadata": {},
   "source": [
    "2. From a sales dataset (OrderID, Product, Quantity, Price, City) \n",
    "   a. Find total sales (Quantity × Price).\n",
    "   b. Group sales by City and find the highest\n",
    "   c. Find the top 3 products sold."
   ]
  },
  {
   "cell_type": "code",
   "execution_count": 7,
   "id": "9498eb15-0c80-45b1-9216-8e586a9d67eb",
   "metadata": {},
   "outputs": [
    {
     "name": "stdout",
     "output_type": "stream",
     "text": [
      " 10032628.85\n"
     ]
    }
   ],
   "source": [
    "#find total sales\n",
    "print(\"\",df[\"SALES\"].sum())"
   ]
  },
  {
   "cell_type": "code",
   "execution_count": 8,
   "id": "d8f0b9c7-13a5-4ba6-a0a0-dd39510090fe",
   "metadata": {},
   "outputs": [
    {
     "data": {
      "text/html": [
       "<div>\n",
       "<style scoped>\n",
       "    .dataframe tbody tr th:only-of-type {\n",
       "        vertical-align: middle;\n",
       "    }\n",
       "\n",
       "    .dataframe tbody tr th {\n",
       "        vertical-align: top;\n",
       "    }\n",
       "\n",
       "    .dataframe thead th {\n",
       "        text-align: right;\n",
       "    }\n",
       "</style>\n",
       "<table border=\"1\" class=\"dataframe\">\n",
       "  <thead>\n",
       "    <tr style=\"text-align: right;\">\n",
       "      <th></th>\n",
       "      <th>CITY</th>\n",
       "      <th>SALES</th>\n",
       "    </tr>\n",
       "  </thead>\n",
       "  <tbody>\n",
       "    <tr>\n",
       "      <th>0</th>\n",
       "      <td>Aaarhus</td>\n",
       "      <td>100595.55</td>\n",
       "    </tr>\n",
       "    <tr>\n",
       "      <th>1</th>\n",
       "      <td>Allentown</td>\n",
       "      <td>122138.14</td>\n",
       "    </tr>\n",
       "    <tr>\n",
       "      <th>2</th>\n",
       "      <td>Barcelona</td>\n",
       "      <td>78411.86</td>\n",
       "    </tr>\n",
       "    <tr>\n",
       "      <th>3</th>\n",
       "      <td>Bergamo</td>\n",
       "      <td>137955.72</td>\n",
       "    </tr>\n",
       "    <tr>\n",
       "      <th>4</th>\n",
       "      <td>Bergen</td>\n",
       "      <td>111640.28</td>\n",
       "    </tr>\n",
       "    <tr>\n",
       "      <th>...</th>\n",
       "      <td>...</td>\n",
       "      <td>...</td>\n",
       "    </tr>\n",
       "    <tr>\n",
       "      <th>68</th>\n",
       "      <td>Toulouse</td>\n",
       "      <td>70488.44</td>\n",
       "    </tr>\n",
       "    <tr>\n",
       "      <th>69</th>\n",
       "      <td>Tsawassen</td>\n",
       "      <td>74634.85</td>\n",
       "    </tr>\n",
       "    <tr>\n",
       "      <th>70</th>\n",
       "      <td>Vancouver</td>\n",
       "      <td>75238.92</td>\n",
       "    </tr>\n",
       "    <tr>\n",
       "      <th>71</th>\n",
       "      <td>Versailles</td>\n",
       "      <td>64834.32</td>\n",
       "    </tr>\n",
       "    <tr>\n",
       "      <th>72</th>\n",
       "      <td>White Plains</td>\n",
       "      <td>85555.99</td>\n",
       "    </tr>\n",
       "  </tbody>\n",
       "</table>\n",
       "<p>73 rows × 2 columns</p>\n",
       "</div>"
      ],
      "text/plain": [
       "            CITY      SALES\n",
       "0        Aaarhus  100595.55\n",
       "1      Allentown  122138.14\n",
       "2      Barcelona   78411.86\n",
       "3        Bergamo  137955.72\n",
       "4         Bergen  111640.28\n",
       "..           ...        ...\n",
       "68      Toulouse   70488.44\n",
       "69     Tsawassen   74634.85\n",
       "70     Vancouver   75238.92\n",
       "71    Versailles   64834.32\n",
       "72  White Plains   85555.99\n",
       "\n",
       "[73 rows x 2 columns]"
      ]
     },
     "execution_count": 8,
     "metadata": {},
     "output_type": "execute_result"
    }
   ],
   "source": [
    "#group sales by city\n",
    "sales_by_city = df.groupby(\"CITY\")[\"SALES\"].sum().reset_index()\n",
    "sales_by_city"
   ]
  },
  {
   "cell_type": "code",
   "execution_count": 9,
   "id": "45bb4cfb-ae4a-4226-9d54-00da1176a9dd",
   "metadata": {},
   "outputs": [
    {
     "name": "stdout",
     "output_type": "stream",
     "text": [
      "Highest sales city :  Madrid\n"
     ]
    }
   ],
   "source": [
    "#the highest by city\n",
    "top_city_in_sales = sales_by_city.loc[sales_by_city[\"SALES\"].idxmax(),\"CITY\"]\n",
    "print(\"Highest sales city : \",top_city_in_sales)"
   ]
  },
  {
   "cell_type": "code",
   "execution_count": 10,
   "id": "68d998b5-2e3e-4438-8089-01e017c4bf31",
   "metadata": {},
   "outputs": [
    {
     "data": {
      "text/plain": [
       "PRODUCTLINE\n",
       "Classic Cars        967\n",
       "Vintage Cars        607\n",
       "Motorcycles         331\n",
       "Planes              306\n",
       "Trucks and Buses    301\n",
       "Ships               234\n",
       "Trains               77\n",
       "Name: count, dtype: int64"
      ]
     },
     "execution_count": 10,
     "metadata": {},
     "output_type": "execute_result"
    }
   ],
   "source": [
    "df[\"PRODUCTLINE\"].value_counts()"
   ]
  },
  {
   "cell_type": "code",
   "execution_count": 11,
   "id": "a99aed68-762c-488f-a544-16a7ee65745b",
   "metadata": {},
   "outputs": [
    {
     "data": {
      "text/plain": [
       "PRODUCTLINE\n",
       "Classic Cars    3919615.66\n",
       "Vintage Cars    1903150.84\n",
       "Motorcycles     1166388.34\n",
       "Name: SALES, dtype: float64"
      ]
     },
     "execution_count": 11,
     "metadata": {},
     "output_type": "execute_result"
    }
   ],
   "source": [
    "#Find the top 3 products sold.\n",
    "top_3_product = df.groupby(\"PRODUCTLINE\")[\"SALES\"].sum().sort_values(ascending=False).head(3)\n",
    "\n",
    "top_3_product"
   ]
  },
  {
   "cell_type": "markdown",
   "id": "74c4ace3-cb18-45b8-bc24-af495c2fe870",
   "metadata": {},
   "source": [
    "# -------------------------------------------------------------------------------"
   ]
  },
  {
   "cell_type": "markdown",
   "id": "31803f7b-39a9-4fae-bbdc-bf5f863a9e4e",
   "metadata": {},
   "source": [
    "3. Create a DataFrame of employees (EmpID, Name, Department, Salary).\n",
    "    a. Filter employees with salary greater than 50,000.\n",
    "    b. Sort by Salary in descending order.\n",
    "    c. Find the average salary per department"
   ]
  },
  {
   "cell_type": "code",
   "execution_count": 12,
   "id": "5fe93cf5-6bad-4ee6-ad8d-7495f75924e4",
   "metadata": {},
   "outputs": [
    {
     "name": "stdout",
     "output_type": "stream",
     "text": [
      "Original DataFrame:\n",
      "   EmpID Name Department  Salary\n",
      "0    101    A         HR   48000\n",
      "1    102    B         IT   52000\n",
      "2    103    C    Finance   60000\n",
      "3    104    D         IT   45000\n",
      "4    105    E         HR   75000\n",
      "5    106    F    Finance   58000\n"
     ]
    }
   ],
   "source": [
    "import pandas as pd\n",
    "\n",
    "data = {\n",
    "    \"EmpID\": [101, 102, 103, 104, 105, 106],\n",
    "    \"Name\": [\"A\", \"B\", \"C\", \"D\", \"E\", \"F\"],\n",
    "    \"Department\": [\"HR\", \"IT\", \"Finance\", \"IT\", \"HR\", \"Finance\"],\n",
    "    \"Salary\": [48000, 52000, 60000, 45000, 75000, 58000]\n",
    "}\n",
    "\n",
    "df_temp = pd.DataFrame(data)\n",
    "print(\"Original DataFrame:\")\n",
    "print(df_temp)\n"
   ]
  },
  {
   "cell_type": "code",
   "execution_count": 13,
   "id": "29b94f62-2838-40f3-b5d3-5b458f945373",
   "metadata": {},
   "outputs": [
    {
     "name": "stdout",
     "output_type": "stream",
     "text": [
      "\n",
      "Employees with Salary > 50,000:\n",
      "   EmpID Name Department  Salary\n",
      "1    102    B         IT   52000\n",
      "2    103    C    Finance   60000\n",
      "4    105    E         HR   75000\n",
      "5    106    F    Finance   58000\n"
     ]
    }
   ],
   "source": [
    "filtered_df = df_temp[df_temp[\"Salary\"] > 50000]\n",
    "print(\"\\nEmployees with Salary > 50,000:\")\n",
    "print(filtered_df)\n"
   ]
  },
  {
   "cell_type": "code",
   "execution_count": 14,
   "id": "32c6a280-275c-497a-9d3a-fd670fe64909",
   "metadata": {},
   "outputs": [
    {
     "name": "stdout",
     "output_type": "stream",
     "text": [
      "Employees sorted by Salary (decending):\n",
      "   EmpID Name Department  Salary\n",
      "4    105    E         HR   75000\n",
      "2    103    C    Finance   60000\n",
      "5    106    F    Finance   58000\n",
      "1    102    B         IT   52000\n",
      "0    101    A         HR   48000\n",
      "3    104    D         IT   45000\n"
     ]
    }
   ],
   "source": [
    "sorted_df = df_temp.sort_values(by=\"Salary\", ascending=False)\n",
    "print(\"Employees sorted by Salary (decending):\")\n",
    "print(sorted_df)\n"
   ]
  },
  {
   "cell_type": "code",
   "execution_count": 15,
   "id": "b2ecf43d-82ca-4006-adae-9a786227f84a",
   "metadata": {},
   "outputs": [
    {
     "name": "stdout",
     "output_type": "stream",
     "text": [
      "Average Salary per Department:\n",
      "  Department   Salary\n",
      "0    Finance  59000.0\n",
      "1         HR  61500.0\n",
      "2         IT  48500.0\n"
     ]
    }
   ],
   "source": [
    "avg_salary = df_temp.groupby(\"Department\")[\"Salary\"].mean().reset_index()\n",
    "print(\"Average Salary per Department:\")\n",
    "print(avg_salary)\n"
   ]
  },
  {
   "cell_type": "markdown",
   "id": "2190b229-5c3d-4463-847f-215547571691",
   "metadata": {},
   "source": [
    "# -------------------------------------------------------------------------------"
   ]
  },
  {
   "cell_type": "markdown",
   "id": "e439a5d2-74d9-48f9-98f0-a6bc9a0708a6",
   "metadata": {},
   "source": [
    "#4. Create a NumPy array of integers from 1 to 20.\n",
    "    a. Reshape it into a 4×5 matrix.\n",
    "    b. Find the mean, max, and min.\n",
    "    c. Extract all even numbers."
   ]
  },
  {
   "cell_type": "code",
   "execution_count": 16,
   "id": "6d9320ab-5f9b-4c8d-8de7-847009c90e91",
   "metadata": {},
   "outputs": [
    {
     "name": "stdout",
     "output_type": "stream",
     "text": [
      "Array: [ 1  2  3  4  5  6  7  8  9 10 11 12 13 14 15 16 17 18 19 20]\n"
     ]
    }
   ],
   "source": [
    "arr = np.arange(1, 21)  \n",
    "print(\"Array:\", arr)"
   ]
  },
  {
   "cell_type": "code",
   "execution_count": 17,
   "id": "2c6624cb-ddae-438f-9cd9-c8b4f40d525b",
   "metadata": {},
   "outputs": [
    {
     "name": "stdout",
     "output_type": "stream",
     "text": [
      "4x5 Matrix:\n",
      " [[ 1  2  3  4  5]\n",
      " [ 6  7  8  9 10]\n",
      " [11 12 13 14 15]\n",
      " [16 17 18 19 20]]\n"
     ]
    }
   ],
   "source": [
    "matrix = arr.reshape(4, 5)\n",
    "print(\"4x5 Matrix:\\n\", matrix)"
   ]
  },
  {
   "cell_type": "code",
   "execution_count": 18,
   "id": "e0db2223-cf02-4884-9735-f5a0b7bf1ce3",
   "metadata": {},
   "outputs": [
    {
     "name": "stdout",
     "output_type": "stream",
     "text": [
      "Mean: 10.5\n",
      "Max: 20\n",
      "Min: 1\n"
     ]
    }
   ],
   "source": [
    "print(\"Mean:\", arr.mean())\n",
    "print(\"Max:\", arr.max())\n",
    "print(\"Min:\", arr.min())"
   ]
  },
  {
   "cell_type": "code",
   "execution_count": 19,
   "id": "4c8b84c4-6593-42a4-9f23-16480ef861fa",
   "metadata": {},
   "outputs": [
    {
     "name": "stdout",
     "output_type": "stream",
     "text": [
      "Even Numbers: [ 2  4  6  8 10 12 14 16 18 20]\n"
     ]
    }
   ],
   "source": [
    "even_numbers = arr[arr % 2 == 0]\n",
    "print(\"Even Numbers:\", even_numbers)"
   ]
  },
  {
   "cell_type": "markdown",
   "id": "b45b9f84-3c98-4f3e-8ec2-f47e7fc74842",
   "metadata": {},
   "source": [
    "# -------------------------------------------------------------------------------------------------"
   ]
  },
  {
   "cell_type": "markdown",
   "id": "fc2ebf06-ff2f-4d57-b437-56493565d102",
   "metadata": {},
   "source": [
    "5. Generate two random 3×3 matrices.\n",
    "    a. Perform matrix multiplication.\n",
    "    b. Find the transpose and determinant.\n",
    "    c. Add and subtract the two matrices."
   ]
  },
  {
   "cell_type": "code",
   "execution_count": 20,
   "id": "25c04410-c4b1-42df-9104-45f96a5549e3",
   "metadata": {},
   "outputs": [
    {
     "name": "stdout",
     "output_type": "stream",
     "text": [
      "[[77 85 44]\n",
      " [45 61 77]\n",
      " [24 16 39]]\n",
      "--------\n",
      "[[92 34 41]\n",
      " [65 19  2]\n",
      " [57 47 31]]\n"
     ]
    }
   ],
   "source": [
    "A = np.random.randint(1, 100, size=(3, 3))\n",
    "B = np.random.randint(1, 100, size=(3, 3))\n",
    "print(A)\n",
    "print(\"--------\")\n",
    "print(B)"
   ]
  },
  {
   "cell_type": "code",
   "execution_count": 21,
   "id": "b2a131f5-ddfa-46c9-9e35-0cbaec5be559",
   "metadata": {},
   "outputs": [
    {
     "name": "stdout",
     "output_type": "stream",
     "text": [
      "transpose : \n",
      " [[77 45 24]\n",
      " [85 61 16]\n",
      " [44 77 39]]\n",
      "transpose : \n",
      " [[92 65 57]\n",
      " [34 19 47]\n",
      " [41  2 31]]\n",
      "\n",
      "\n",
      "\n"
     ]
    }
   ],
   "source": [
    "print(\"transpose : \\n\", A.T)\n",
    "print(\"transpose : \\n\", B.T)\n",
    "print(\"\\n\\n\")"
   ]
  },
  {
   "cell_type": "code",
   "execution_count": 22,
   "id": "6dff8f82-3b6f-4187-97e1-39092ca12eb8",
   "metadata": {},
   "outputs": [
    {
     "name": "stdout",
     "output_type": "stream",
     "text": [
      "determinant : \n",
      " 63488.00000000001\n",
      "determinant : \n",
      " 61758.00000000008\n"
     ]
    }
   ],
   "source": [
    "#only square matrix have determinant\n",
    "print(\"determinant : \\n\", np.linalg.det(A))\n",
    "print(\"determinant : \\n\", np.linalg.det(B))"
   ]
  },
  {
   "cell_type": "code",
   "execution_count": 23,
   "id": "a83b1fe3-016d-4fc0-b4d4-95548abf2dd9",
   "metadata": {},
   "outputs": [
    {
     "name": "stdout",
     "output_type": "stream",
     "text": [
      "add\n",
      " [[169 119  85]\n",
      " [110  80  79]\n",
      " [ 81  63  70]]\n",
      "------------------------\n",
      "\n",
      "sub\n",
      " [[-15  51   3]\n",
      " [-20  42  75]\n",
      " [-33 -31   8]]\n"
     ]
    }
   ],
   "source": [
    "# add and subtract \n",
    "add_A_B = A + B\n",
    "sub_A_B = A - B\n",
    "\n",
    "print(\"add\\n\",add_A_B)\n",
    "print(\"------------------------\")\n",
    "print(\"\\nsub\\n\",sub_A_B)"
   ]
  },
  {
   "cell_type": "markdown",
   "id": "b0d0f699-22f5-4991-8956-270013d99a68",
   "metadata": {},
   "source": [
    "#6. Create a 1D NumPy array of size 10 with random numbers between 0 and 1.\n",
    "    a. Normalize the array (values between 0 and 1).\n",
    "    c. Find the index of the maximum value."
   ]
  },
  {
   "cell_type": "code",
   "execution_count": 24,
   "id": "3a9de74a-504c-4094-a970-3f9d1ae9dc2b",
   "metadata": {},
   "outputs": [
    {
     "name": "stdout",
     "output_type": "stream",
     "text": [
      "[0.34683769 0.58012542 0.73959908 0.00420969 0.32839542 0.81906558\n",
      " 0.11658566 0.40636814 0.74646685 0.12875502]\n"
     ]
    }
   ],
   "source": [
    "arr = np.random.rand(10)\n",
    "print(arr)"
   ]
  },
  {
   "cell_type": "code",
   "execution_count": 25,
   "id": "c8b3e7cd-956e-460e-b71a-b6cc2c6ce98d",
   "metadata": {},
   "outputs": [
    {
     "name": "stdout",
     "output_type": "stream",
     "text": [
      "normalize array \n",
      " :  [0.4204768  0.70677004 0.90247785 0.         0.39784425 1.\n",
      " 0.13790901 0.49353322 0.91090604 0.15284338]\n"
     ]
    }
   ],
   "source": [
    "# normalize \n",
    "norm_arr = (arr - arr.min()) / (arr.max() - arr.min())\n",
    "print(\"normalize array \\n : \", norm_arr)"
   ]
  },
  {
   "cell_type": "code",
   "execution_count": 26,
   "id": "b67f2279-d582-474f-ac59-79196bba2b6d",
   "metadata": {},
   "outputs": [
    {
     "name": "stdout",
     "output_type": "stream",
     "text": [
      "note: index start from 0\n",
      "Index of Maximum Value: 5\n",
      "Maximum Value: 0.8190655834035114\n"
     ]
    }
   ],
   "source": [
    "# Find the index of the maximum value.\n",
    "max_index = arr.argmax()\n",
    "print(\"note: index start from 0\")\n",
    "print(\"Index of Maximum Value:\", max_index)\n",
    "print(\"Maximum Value:\", arr[max_index])"
   ]
  },
  {
   "cell_type": "raw",
   "id": "d193769c-3df8-40f1-bbe5-faf2be57d9ad",
   "metadata": {},
   "source": [
    "# -------------------------------------------------------------------------------------------------"
   ]
  },
  {
   "cell_type": "code",
   "execution_count": null,
   "id": "f50fd60e-1249-4963-9ea7-a31fee56fc78",
   "metadata": {},
   "outputs": [],
   "source": []
  },
  {
   "cell_type": "markdown",
   "id": "3da8757d-ffdc-4da1-a8e3-4a59066567aa",
   "metadata": {},
   "source": [
    "# -------------------------------------------------------------------------------------------------"
   ]
  },
  {
   "cell_type": "markdown",
   "id": "42ad85da-5c71-4f95-b367-f590069c40af",
   "metadata": {},
   "source": [
    "8. Using sample sales data (Months vs Revenue):\n",
    "    a. Create a line chart of Revenue per month.\n",
    "    b. Highlight the maximum point with a marker"
   ]
  },
  {
   "cell_type": "code",
   "execution_count": 27,
   "id": "6d93b1e3-80a1-4f35-a5b8-cd007e6bf9bb",
   "metadata": {},
   "outputs": [
    {
     "name": "stdout",
     "output_type": "stream",
     "text": [
      "0        2/24/2003 0:00\n",
      "1         5/7/2003 0:00\n",
      "2         7/1/2003 0:00\n",
      "3        8/25/2003 0:00\n",
      "4       10/10/2003 0:00\n",
      "             ...       \n",
      "2818     12/2/2004 0:00\n",
      "2819     1/31/2005 0:00\n",
      "2820      3/1/2005 0:00\n",
      "2821     3/28/2005 0:00\n",
      "2822      5/6/2005 0:00\n",
      "Name: ORDERDATE, Length: 2823, dtype: object\n"
     ]
    }
   ],
   "source": [
    "print(df[\"ORDERDATE\"])"
   ]
  },
  {
   "cell_type": "code",
   "execution_count": 29,
   "id": "fb3c18f8-898c-471d-9cd8-3c29bec6d388",
   "metadata": {},
   "outputs": [],
   "source": [
    "# Convert ORDERDATE to datetime\n",
    "df[\"ORDERDATE\"] = pd.to_datetime(df[\"ORDERDATE\"])\n",
    "# Extract Year and Month\n",
    "df[\"Year\"] = df[\"ORDERDATE\"].dt.year\n",
    "df[\"Month\"] = df[\"ORDERDATE\"].dt.month"
   ]
  },
  {
   "cell_type": "code",
   "execution_count": 39,
   "id": "3917acc1-4142-48b8-8565-32a8aca62ea1",
   "metadata": {},
   "outputs": [
    {
     "data": {
      "image/png": "[encoded data removed]",
      "text/plain": [
       "<Figure size 1200x600 with 1 Axes>"
      ]
     },
     "metadata": {},
     "output_type": "display_data"
    }
   ],
   "source": [
    "# Find the maximum revenue and its index\n",
    "max_idx = monthly_revenue[\"SALES\"].idxmax()\n",
    "max_month = monthly_revenue.loc[max_idx, \"YearMonth\"]\n",
    "max_value = monthly_revenue.loc[max_idx, \"SALES\"]\n",
    "\n",
    "# Plot the line chart\n",
    "plt.figure(figsize=(12,6))\n",
    "plt.plot(monthly_revenue[\"YearMonth\"], monthly_revenue[\"SALES\"], marker=\"o\", color=\"blue\", label=\"Revenue\")\n",
    "\n",
    "# Highlight the maximum point\n",
    "plt.scatter(max_month, max_value, color=\"red\", s=100, zorder=5, label=\"Max Revenue\")\n",
    "plt.text(max_month, max_value + 1000, f\"{max_value:.0f}\", ha=\"center\", color=\"red\")\n",
    "\n",
    "# Labels, title, grid, legend\n",
    "plt.xlabel(\"Month\")\n",
    "plt.ylabel(\"Revenue\")\n",
    "plt.title(\"Revenue per Month with Maximum Highlighted\")\n",
    "plt.xticks(rotation=45)\n",
    "plt.grid(True)\n",
    "plt.legend()\n",
    "plt.show()\n"
   ]
  },
  {
   "cell_type": "markdown",
   "id": "01abb255-3901-48ca-b87a-0f35b243ad2e",
   "metadata": {},
   "source": [
    "# --------------------------------------------------------------------------------------------------------"
   ]
  },
  {
   "cell_type": "code",
   "execution_count": 40,
   "id": "f6b80244-3d8b-4bf4-ae23-b7eed6427e23",
   "metadata": {},
   "outputs": [
    {
     "data": {
      "image/png": "[encoded data removed]",
      "text/plain": [
       "<Figure size 800x600 with 1 Axes>"
      ]
     },
     "metadata": {},
     "output_type": "display_data"
    }
   ],
   "source": [
    "# Data\n",
    "products = ['A', 'B', 'C', 'D']\n",
    "sales = [50, 80, 30, 90]\n",
    "colors = ['red', 'green', 'blue', 'orange']\n",
    "\n",
    "# Create bar chart\n",
    "plt.figure(figsize=(8,6))\n",
    "bars = plt.bar(products, sales, color=colors)\n",
    "\n",
    "# Add values on top of bars\n",
    "for bar in bars:\n",
    "    yval = bar.get_height()\n",
    "    plt.text(bar.get_x() + bar.get_width()/2,\n",
    "             yval + 1, yval,\n",
    "             ha='center',\n",
    "             va='bottom')\n",
    "# Add labels and title\n",
    "plt.xlabel(\"Products\")\n",
    "plt.ylabel(\"Sales\")\n",
    "plt.title(\"Product Sales\")\n",
    "plt.show()\n"
   ]
  },
  {
   "cell_type": "code",
   "execution_count": null,
   "id": "5db12e0a-7fe2-4269-a1ae-43ed0e50f14e",
   "metadata": {},
   "outputs": [],
   "source": []
  }
 ],
 "metadata": {
  "kernelspec": {
   "display_name": "Python 3 (ipykernel)",
   "language": "python",
   "name": "python3"
  },
  "language_info": {
   "codemirror_mode": {
    "name": "ipython",
    "version": 3
   },
   "file_extension": ".py",
   "mimetype": "text/x-python",
   "name": "python",
   "nbconvert_exporter": "python",
   "pygments_lexer": "ipython3",
   "version": "3.11.7"
  }
 },
 "nbformat": 4,
 "nbformat_minor": 5
}
