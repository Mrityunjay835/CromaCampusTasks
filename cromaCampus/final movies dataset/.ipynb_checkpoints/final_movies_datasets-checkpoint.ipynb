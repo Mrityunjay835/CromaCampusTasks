{
 "cells": [
  {
   "cell_type": "code",
   "execution_count": 1,
   "id": "8ee36791-985a-43f1-b4cd-b9a1c6ab3d9f",
   "metadata": {},
   "outputs": [],
   "source": [
    "import pandas as pd\n",
    "import numpy as np\n",
    "import matplotlib.pyplot as plt\n",
    "import seaborn as sns\n",
    "import ast "
   ]
  },
  {
   "cell_type": "code",
   "execution_count": 2,
   "id": "de3217c8-2fa3-4542-b56f-336b8ea8d22f",
   "metadata": {},
   "outputs": [],
   "source": [
    "df = pd.read_csv(\"final_movies_dataset.csv\")\n"
   ]
  },
  {
   "cell_type": "code",
   "execution_count": 3,
   "id": "0011ddd8-7d17-499b-85eb-d9a991eb03d7",
   "metadata": {},
   "outputs": [
    {
     "data": {
      "text/html": [
       "<div>\n",
       "<style scoped>\n",
       "    .dataframe tbody tr th:only-of-type {\n",
       "        vertical-align: middle;\n",
       "    }\n",
       "\n",
       "    .dataframe tbody tr th {\n",
       "        vertical-align: top;\n",
       "    }\n",
       "\n",
       "    .dataframe thead th {\n",
       "        text-align: right;\n",
       "    }\n",
       "</style>\n",
       "<table border=\"1\" class=\"dataframe\">\n",
       "  <thead>\n",
       "    <tr style=\"text-align: right;\">\n",
       "      <th></th>\n",
       "      <th>id</th>\n",
       "      <th>Title</th>\n",
       "      <th>Movie Link</th>\n",
       "      <th>Year</th>\n",
       "      <th>Duration</th>\n",
       "      <th>MPA</th>\n",
       "      <th>Rating</th>\n",
       "      <th>Votes</th>\n",
       "      <th>budget</th>\n",
       "      <th>grossWorldWide</th>\n",
       "      <th>...</th>\n",
       "      <th>writers</th>\n",
       "      <th>stars</th>\n",
       "      <th>genres</th>\n",
       "      <th>countries_origin</th>\n",
       "      <th>filming_locations</th>\n",
       "      <th>production_companies</th>\n",
       "      <th>Languages</th>\n",
       "      <th>wins</th>\n",
       "      <th>nominations</th>\n",
       "      <th>oscars</th>\n",
       "    </tr>\n",
       "  </thead>\n",
       "  <tbody>\n",
       "    <tr>\n",
       "      <th>0</th>\n",
       "      <td>tt0073195</td>\n",
       "      <td>Jaws</td>\n",
       "      <td>https://www.imdb.com/title/tt0073195</td>\n",
       "      <td>1975</td>\n",
       "      <td>2h 4m</td>\n",
       "      <td>PG</td>\n",
       "      <td>8.1</td>\n",
       "      <td>683K</td>\n",
       "      <td>7000000.0</td>\n",
       "      <td>477220580.0</td>\n",
       "      <td>...</td>\n",
       "      <td>['Peter Benchley', 'Carl Gottlieb']</td>\n",
       "      <td>['Roy Scheider', 'Robert Shaw', 'Richard Dreyf...</td>\n",
       "      <td>['Monster Horror', 'Sea Adventure', 'Survival'...</td>\n",
       "      <td>['United States']</td>\n",
       "      <td>[\"Water Street, Edgartown, Martha's Vineyard, ...</td>\n",
       "      <td>['Zanuck/Brown Productions', 'Universal Pictur...</td>\n",
       "      <td>['English']</td>\n",
       "      <td>0</td>\n",
       "      <td>20</td>\n",
       "      <td>0</td>\n",
       "    </tr>\n",
       "    <tr>\n",
       "      <th>1</th>\n",
       "      <td>tt0073629</td>\n",
       "      <td>The Rocky Horror Picture Show</td>\n",
       "      <td>https://www.imdb.com/title/tt0073629</td>\n",
       "      <td>1975</td>\n",
       "      <td>1h 40m</td>\n",
       "      <td>R</td>\n",
       "      <td>7.4</td>\n",
       "      <td>173K</td>\n",
       "      <td>1200000.0</td>\n",
       "      <td>115798478.0</td>\n",
       "      <td>...</td>\n",
       "      <td>[\"Richard O'Brien\", 'Jim Sharman']</td>\n",
       "      <td>['Tim Curry', 'Susan Sarandon', 'Barry Bostwick']</td>\n",
       "      <td>['Dark Comedy', 'Raunchy Comedy', 'Rock Musica...</td>\n",
       "      <td>['United Kingdom', 'United States']</td>\n",
       "      <td>['Oakley Court, Windsor Road, Oakley Green, Wi...</td>\n",
       "      <td>['Twentieth Century Fox', 'Michael White Produ...</td>\n",
       "      <td>['English']</td>\n",
       "      <td>0</td>\n",
       "      <td>4</td>\n",
       "      <td>0</td>\n",
       "    </tr>\n",
       "  </tbody>\n",
       "</table>\n",
       "<p>2 rows × 23 columns</p>\n",
       "</div>"
      ],
      "text/plain": [
       "          id                          Title  \\\n",
       "0  tt0073195                           Jaws   \n",
       "1  tt0073629  The Rocky Horror Picture Show   \n",
       "\n",
       "                             Movie Link  Year Duration MPA  Rating Votes  \\\n",
       "0  https://www.imdb.com/title/tt0073195  1975    2h 4m  PG     8.1  683K   \n",
       "1  https://www.imdb.com/title/tt0073629  1975   1h 40m   R     7.4  173K   \n",
       "\n",
       "      budget  grossWorldWide  ...                              writers  \\\n",
       "0  7000000.0     477220580.0  ...  ['Peter Benchley', 'Carl Gottlieb']   \n",
       "1  1200000.0     115798478.0  ...   [\"Richard O'Brien\", 'Jim Sharman']   \n",
       "\n",
       "                                               stars  \\\n",
       "0  ['Roy Scheider', 'Robert Shaw', 'Richard Dreyf...   \n",
       "1  ['Tim Curry', 'Susan Sarandon', 'Barry Bostwick']   \n",
       "\n",
       "                                              genres  \\\n",
       "0  ['Monster Horror', 'Sea Adventure', 'Survival'...   \n",
       "1  ['Dark Comedy', 'Raunchy Comedy', 'Rock Musica...   \n",
       "\n",
       "                      countries_origin  \\\n",
       "0                    ['United States']   \n",
       "1  ['United Kingdom', 'United States']   \n",
       "\n",
       "                                   filming_locations  \\\n",
       "0  [\"Water Street, Edgartown, Martha's Vineyard, ...   \n",
       "1  ['Oakley Court, Windsor Road, Oakley Green, Wi...   \n",
       "\n",
       "                                production_companies    Languages wins  \\\n",
       "0  ['Zanuck/Brown Productions', 'Universal Pictur...  ['English']    0   \n",
       "1  ['Twentieth Century Fox', 'Michael White Produ...  ['English']    0   \n",
       "\n",
       "  nominations oscars  \n",
       "0          20      0  \n",
       "1           4      0  \n",
       "\n",
       "[2 rows x 23 columns]"
      ]
     },
     "execution_count": 3,
     "metadata": {},
     "output_type": "execute_result"
    }
   ],
   "source": [
    "df.head(2)"
   ]
  },
  {
   "cell_type": "code",
   "execution_count": 4,
   "id": "42528ace-f96a-4f74-a1f8-9211841b7e93",
   "metadata": {},
   "outputs": [
    {
     "data": {
      "text/plain": [
       "(33600, 23)"
      ]
     },
     "execution_count": 4,
     "metadata": {},
     "output_type": "execute_result"
    }
   ],
   "source": [
    "# checking datasets shape\n",
    "df.shape"
   ]
  },
  {
   "cell_type": "code",
   "execution_count": 5,
   "id": "22e5c14d-ac89-48c0-8ebd-b61fe215d141",
   "metadata": {},
   "outputs": [
    {
     "name": "stdout",
     "output_type": "stream",
     "text": [
      "<class 'pandas.core.frame.DataFrame'>\n",
      "RangeIndex: 33600 entries, 0 to 33599\n",
      "Data columns (total 23 columns):\n",
      " #   Column                 Non-Null Count  Dtype  \n",
      "---  ------                 --------------  -----  \n",
      " 0   id                     33600 non-null  object \n",
      " 1   Title                  33600 non-null  object \n",
      " 2   Movie Link             33600 non-null  object \n",
      " 3   Year                   33600 non-null  int64  \n",
      " 4   Duration               33379 non-null  object \n",
      " 5   MPA                    25624 non-null  object \n",
      " 6   Rating                 33462 non-null  float64\n",
      " 7   Votes                  33462 non-null  object \n",
      " 8   budget                 11815 non-null  float64\n",
      " 9   grossWorldWide         18222 non-null  float64\n",
      " 10  gross_US_Canada        17571 non-null  float64\n",
      " 11  opening_weekend_Gross  15523 non-null  float64\n",
      " 12  directors              33241 non-null  object \n",
      " 13  writers                32024 non-null  object \n",
      " 14  stars                  33127 non-null  object \n",
      " 15  genres                 33218 non-null  object \n",
      " 16  countries_origin       33234 non-null  object \n",
      " 17  filming_locations      26871 non-null  object \n",
      " 18  production_companies   32222 non-null  object \n",
      " 19  Languages              33126 non-null  object \n",
      " 20  wins                   33600 non-null  int64  \n",
      " 21  nominations            33600 non-null  int64  \n",
      " 22  oscars                 33600 non-null  int64  \n",
      "dtypes: float64(5), int64(4), object(14)\n",
      "memory usage: 5.9+ MB\n"
     ]
    }
   ],
   "source": [
    "#information of dataframe\n",
    "df.info()"
   ]
  },
  {
   "cell_type": "code",
   "execution_count": 6,
   "id": "373edc54-fd3f-4d09-8a35-90aa84e13cf9",
   "metadata": {},
   "outputs": [
    {
     "name": "stdout",
     "output_type": "stream",
     "text": [
      "id                           0\n",
      "Title                        0\n",
      "Movie Link                   0\n",
      "Year                         0\n",
      "Duration                   221\n",
      "MPA                       7976\n",
      "Rating                     138\n",
      "Votes                      138\n",
      "budget                   21785\n",
      "grossWorldWide           15378\n",
      "gross_US_Canada          16029\n",
      "opening_weekend_Gross    18077\n",
      "directors                  359\n",
      "writers                   1576\n",
      "stars                      473\n",
      "genres                     382\n",
      "countries_origin           366\n",
      "filming_locations         6729\n",
      "production_companies      1378\n",
      "Languages                  474\n",
      "wins                         0\n",
      "nominations                  0\n",
      "oscars                       0\n",
      "dtype: int64\n"
     ]
    }
   ],
   "source": [
    "print(df.isnull().sum())"
   ]
  },
  {
   "cell_type": "code",
   "execution_count": 7,
   "id": "da87dd43-42cb-43ac-84fd-7fd73400e4bd",
   "metadata": {},
   "outputs": [
    {
     "data": {
      "text/html": [
       "<div>\n",
       "<style scoped>\n",
       "    .dataframe tbody tr th:only-of-type {\n",
       "        vertical-align: middle;\n",
       "    }\n",
       "\n",
       "    .dataframe tbody tr th {\n",
       "        vertical-align: top;\n",
       "    }\n",
       "\n",
       "    .dataframe thead th {\n",
       "        text-align: right;\n",
       "    }\n",
       "</style>\n",
       "<table border=\"1\" class=\"dataframe\">\n",
       "  <thead>\n",
       "    <tr style=\"text-align: right;\">\n",
       "      <th></th>\n",
       "      <th>Year</th>\n",
       "      <th>Rating</th>\n",
       "      <th>budget</th>\n",
       "      <th>grossWorldWide</th>\n",
       "      <th>gross_US_Canada</th>\n",
       "      <th>opening_weekend_Gross</th>\n",
       "      <th>wins</th>\n",
       "      <th>nominations</th>\n",
       "      <th>oscars</th>\n",
       "    </tr>\n",
       "  </thead>\n",
       "  <tbody>\n",
       "    <tr>\n",
       "      <th>count</th>\n",
       "      <td>33600.000000</td>\n",
       "      <td>33462.000000</td>\n",
       "      <td>1.181500e+04</td>\n",
       "      <td>1.822200e+04</td>\n",
       "      <td>1.757100e+04</td>\n",
       "      <td>1.552300e+04</td>\n",
       "      <td>33600.0</td>\n",
       "      <td>33600.000000</td>\n",
       "      <td>33600.000000</td>\n",
       "    </tr>\n",
       "    <tr>\n",
       "      <th>mean</th>\n",
       "      <td>1992.393631</td>\n",
       "      <td>6.155158</td>\n",
       "      <td>8.454320e+07</td>\n",
       "      <td>3.814961e+07</td>\n",
       "      <td>1.808236e+07</td>\n",
       "      <td>5.110082e+06</td>\n",
       "      <td>0.0</td>\n",
       "      <td>4.850357</td>\n",
       "      <td>0.102619</td>\n",
       "    </tr>\n",
       "    <tr>\n",
       "      <th>std</th>\n",
       "      <td>18.957395</td>\n",
       "      <td>1.146070</td>\n",
       "      <td>2.866281e+09</td>\n",
       "      <td>1.210105e+08</td>\n",
       "      <td>4.853181e+07</td>\n",
       "      <td>1.488319e+07</td>\n",
       "      <td>0.0</td>\n",
       "      <td>17.719188</td>\n",
       "      <td>0.508687</td>\n",
       "    </tr>\n",
       "    <tr>\n",
       "      <th>min</th>\n",
       "      <td>1960.000000</td>\n",
       "      <td>1.100000</td>\n",
       "      <td>1.000000e+00</td>\n",
       "      <td>1.000000e+00</td>\n",
       "      <td>6.400000e+01</td>\n",
       "      <td>1.100000e+01</td>\n",
       "      <td>0.0</td>\n",
       "      <td>0.000000</td>\n",
       "      <td>0.000000</td>\n",
       "    </tr>\n",
       "    <tr>\n",
       "      <th>25%</th>\n",
       "      <td>1976.000000</td>\n",
       "      <td>5.500000</td>\n",
       "      <td>2.000000e+06</td>\n",
       "      <td>1.589938e+05</td>\n",
       "      <td>8.603650e+04</td>\n",
       "      <td>1.399650e+04</td>\n",
       "      <td>0.0</td>\n",
       "      <td>0.000000</td>\n",
       "      <td>0.000000</td>\n",
       "    </tr>\n",
       "    <tr>\n",
       "      <th>50%</th>\n",
       "      <td>1993.000000</td>\n",
       "      <td>6.300000</td>\n",
       "      <td>9.000000e+06</td>\n",
       "      <td>2.311544e+06</td>\n",
       "      <td>9.094110e+05</td>\n",
       "      <td>1.075360e+05</td>\n",
       "      <td>0.0</td>\n",
       "      <td>0.000000</td>\n",
       "      <td>0.000000</td>\n",
       "    </tr>\n",
       "    <tr>\n",
       "      <th>75%</th>\n",
       "      <td>2009.000000</td>\n",
       "      <td>7.000000</td>\n",
       "      <td>2.700000e+07</td>\n",
       "      <td>2.092931e+07</td>\n",
       "      <td>1.405137e+07</td>\n",
       "      <td>3.772558e+06</td>\n",
       "      <td>0.0</td>\n",
       "      <td>3.000000</td>\n",
       "      <td>0.000000</td>\n",
       "    </tr>\n",
       "    <tr>\n",
       "      <th>max</th>\n",
       "      <td>2024.000000</td>\n",
       "      <td>9.600000</td>\n",
       "      <td>3.000000e+11</td>\n",
       "      <td>2.923706e+09</td>\n",
       "      <td>9.366622e+08</td>\n",
       "      <td>3.571150e+08</td>\n",
       "      <td>0.0</td>\n",
       "      <td>433.000000</td>\n",
       "      <td>11.000000</td>\n",
       "    </tr>\n",
       "  </tbody>\n",
       "</table>\n",
       "</div>"
      ],
      "text/plain": [
       "               Year        Rating        budget  grossWorldWide  \\\n",
       "count  33600.000000  33462.000000  1.181500e+04    1.822200e+04   \n",
       "mean    1992.393631      6.155158  8.454320e+07    3.814961e+07   \n",
       "std       18.957395      1.146070  2.866281e+09    1.210105e+08   \n",
       "min     1960.000000      1.100000  1.000000e+00    1.000000e+00   \n",
       "25%     1976.000000      5.500000  2.000000e+06    1.589938e+05   \n",
       "50%     1993.000000      6.300000  9.000000e+06    2.311544e+06   \n",
       "75%     2009.000000      7.000000  2.700000e+07    2.092931e+07   \n",
       "max     2024.000000      9.600000  3.000000e+11    2.923706e+09   \n",
       "\n",
       "       gross_US_Canada  opening_weekend_Gross     wins   nominations  \\\n",
       "count     1.757100e+04           1.552300e+04  33600.0  33600.000000   \n",
       "mean      1.808236e+07           5.110082e+06      0.0      4.850357   \n",
       "std       4.853181e+07           1.488319e+07      0.0     17.719188   \n",
       "min       6.400000e+01           1.100000e+01      0.0      0.000000   \n",
       "25%       8.603650e+04           1.399650e+04      0.0      0.000000   \n",
       "50%       9.094110e+05           1.075360e+05      0.0      0.000000   \n",
       "75%       1.405137e+07           3.772558e+06      0.0      3.000000   \n",
       "max       9.366622e+08           3.571150e+08      0.0    433.000000   \n",
       "\n",
       "             oscars  \n",
       "count  33600.000000  \n",
       "mean       0.102619  \n",
       "std        0.508687  \n",
       "min        0.000000  \n",
       "25%        0.000000  \n",
       "50%        0.000000  \n",
       "75%        0.000000  \n",
       "max       11.000000  "
      ]
     },
     "execution_count": 7,
     "metadata": {},
     "output_type": "execute_result"
    }
   ],
   "source": [
    "df.describe()"
   ]
  },
  {
   "cell_type": "code",
   "execution_count": 8,
   "id": "b5e851e3-e7f6-4a46-b135-b226672ee5f0",
   "metadata": {},
   "outputs": [
    {
     "name": "stdout",
     "output_type": "stream",
     "text": [
      "['tt0073195', 'Jaws', 'https://www.imdb.com/title/tt0073195', 1975, '2h 4m', 'PG', 8.1, '683K', 7000000.0, 477220580.0, 266567580.0, 7061513.0, \"['Steven Spielberg']\", \"['Peter Benchley', 'Carl Gottlieb']\", \"['Roy Scheider', 'Robert Shaw', 'Richard Dreyfuss']\", \"['Monster Horror', 'Sea Adventure', 'Survival', 'Adventure', 'Drama', 'Horror', 'Thriller']\", \"['United States']\", '[\"Water Street, Edgartown, Martha\\'s Vineyard, Massachusetts, USA\"]', \"['Zanuck/Brown Productions', 'Universal Pictures']\", \"['English']\", 0, 20, 0]\n"
     ]
    }
   ],
   "source": [
    "print(df.iloc[0].values.tolist())"
   ]
  },
  {
   "cell_type": "markdown",
   "id": "dd2b5538-4ff9-4adc-950b-9a2abf90c61d",
   "metadata": {},
   "source": [
    "***---------summary stastistics---------***"
   ]
  },
  {
   "cell_type": "code",
   "execution_count": 9,
   "id": "68bde20c-c90f-42ad-901b-df852f8b552e",
   "metadata": {},
   "outputs": [
    {
     "name": "stdout",
     "output_type": "stream",
     "text": [
      "               id                 Title                            Movie Link  \\\n",
      "count       33600                 33600                                 33600   \n",
      "unique      33600                 31935                                 33600   \n",
      "top     tt0073195  Beauty and the Beast  https://www.imdb.com/title/tt0073195   \n",
      "freq            1                     7                                     1   \n",
      "mean          NaN                   NaN                                   NaN   \n",
      "std           NaN                   NaN                                   NaN   \n",
      "min           NaN                   NaN                                   NaN   \n",
      "25%           NaN                   NaN                                   NaN   \n",
      "50%           NaN                   NaN                                   NaN   \n",
      "75%           NaN                   NaN                                   NaN   \n",
      "max           NaN                   NaN                                   NaN   \n",
      "\n",
      "                Year Duration    MPA        Rating  Votes        budget  \\\n",
      "count   33600.000000    33379  25624  33462.000000  33462  1.181500e+04   \n",
      "unique           NaN      230     26           NaN   1758           NaN   \n",
      "top              NaN   1h 30m      R           NaN   1.1K           NaN   \n",
      "freq             NaN     1613  10099           NaN    577           NaN   \n",
      "mean     1992.393631      NaN    NaN      6.155158    NaN  8.454320e+07   \n",
      "std        18.957395      NaN    NaN      1.146070    NaN  2.866281e+09   \n",
      "min      1960.000000      NaN    NaN      1.100000    NaN  1.000000e+00   \n",
      "25%      1976.000000      NaN    NaN      5.500000    NaN  2.000000e+06   \n",
      "50%      1993.000000      NaN    NaN      6.300000    NaN  9.000000e+06   \n",
      "75%      2009.000000      NaN    NaN      7.000000    NaN  2.700000e+07   \n",
      "max      2024.000000      NaN    NaN      9.600000    NaN  3.000000e+11   \n",
      "\n",
      "        grossWorldWide  ...          writers  \\\n",
      "count     1.822200e+04  ...            32024   \n",
      "unique             NaN  ...            27123   \n",
      "top                NaN  ...  ['Woody Allen']   \n",
      "freq               NaN  ...               40   \n",
      "mean      3.814961e+07  ...              NaN   \n",
      "std       1.210105e+08  ...              NaN   \n",
      "min       1.000000e+00  ...              NaN   \n",
      "25%       1.589938e+05  ...              NaN   \n",
      "50%       2.311544e+06  ...              NaN   \n",
      "75%       2.092931e+07  ...              NaN   \n",
      "max       2.923706e+09  ...              NaN   \n",
      "\n",
      "                                                    stars     genres  \\\n",
      "count                                               33127      33218   \n",
      "unique                                              32812       8540   \n",
      "top     ['Ove Sprogøe', 'Morten Grunwald', 'Poul Bundg...  ['Drama']   \n",
      "freq                                                   14       2928   \n",
      "mean                                                  NaN        NaN   \n",
      "std                                                   NaN        NaN   \n",
      "min                                                   NaN        NaN   \n",
      "25%                                                   NaN        NaN   \n",
      "50%                                                   NaN        NaN   \n",
      "75%                                                   NaN        NaN   \n",
      "max                                                   NaN        NaN   \n",
      "\n",
      "         countries_origin                 filming_locations  \\\n",
      "count               33234                             26871   \n",
      "unique               2938                             12383   \n",
      "top     ['United States']  ['Los Angeles, California, USA']   \n",
      "freq                13098                               832   \n",
      "mean                  NaN                               NaN   \n",
      "std                   NaN                               NaN   \n",
      "min                   NaN                               NaN   \n",
      "25%                   NaN                               NaN   \n",
      "50%                   NaN                               NaN   \n",
      "75%                   NaN                               NaN   \n",
      "max                   NaN                               NaN   \n",
      "\n",
      "          production_companies    Languages     wins   nominations  \\\n",
      "count                    32222        33126  33600.0  33600.000000   \n",
      "unique                   25940         2709      NaN           NaN   \n",
      "top     ['Universal Pictures']  ['English']      NaN           NaN   \n",
      "freq                       133        16125      NaN           NaN   \n",
      "mean                       NaN          NaN      0.0      4.850357   \n",
      "std                        NaN          NaN      0.0     17.719188   \n",
      "min                        NaN          NaN      0.0      0.000000   \n",
      "25%                        NaN          NaN      0.0      0.000000   \n",
      "50%                        NaN          NaN      0.0      0.000000   \n",
      "75%                        NaN          NaN      0.0      3.000000   \n",
      "max                        NaN          NaN      0.0    433.000000   \n",
      "\n",
      "              oscars  \n",
      "count   33600.000000  \n",
      "unique           NaN  \n",
      "top              NaN  \n",
      "freq             NaN  \n",
      "mean        0.102619  \n",
      "std         0.508687  \n",
      "min         0.000000  \n",
      "25%         0.000000  \n",
      "50%         0.000000  \n",
      "75%         0.000000  \n",
      "max        11.000000  \n",
      "\n",
      "[11 rows x 23 columns]\n"
     ]
    }
   ],
   "source": [
    "print(df.describe(include=\"all\"))\n"
   ]
  },
  {
   "cell_type": "markdown",
   "id": "b8c60c87-8d8b-44ff-a52f-1eee68697b88",
   "metadata": {},
   "source": [
    "#Utility method"
   ]
  },
  {
   "cell_type": "code",
   "execution_count": 24,
   "id": "6989ee9f-68a5-4c92-b076-c5829f8f32d4",
   "metadata": {},
   "outputs": [],
   "source": [
    "def clean_str_list_column(df, col_name):\n",
    "    \"\"\"\n",
    "    Cleans a column that contains stringified Python lists.\n",
    "    Converts them into actual Python lists.\n",
    "    \"\"\"\n",
    "    df[col_name + \"_list\"] = df[col_name].dropna().apply(\n",
    "        lambda x: ast.literal_eval(x) if isinstance(x, str) else []\n",
    "    )\n",
    "    return df\n",
    "\n",
    "\n",
    "def convert_votes(vote_str):\n",
    "    \"\"\"\n",
    "    Converts votes string like '683K', '1.2M' into integer.\n",
    "    Handles missing values.\n",
    "    \"\"\"\n",
    "    if pd.isna(vote_str):\n",
    "        return None\n",
    "    vote_str = str(vote_str).replace(\",\", \"\").strip()\n",
    "    if vote_str.endswith(\"K\"):\n",
    "        return int(float(vote_str[:-1]) * 1_000)\n",
    "    elif vote_str.endswith(\"M\"):\n",
    "        return int(float(vote_str[:-1]) * 1_000_000)\n",
    "    else:\n",
    "        return int(float(vote_str))  # already a number\n",
    "\n",
    "\n",
    "def convert_duration(duration_str):\n",
    "    \"\"\"\n",
    "    Converts duration from '2h 4m' into total minutes as integer.\n",
    "    Handles missing values.\n",
    "    \"\"\"\n",
    "    if pd.isna(duration_str):\n",
    "        return None\n",
    "    duration_str = str(duration_str).lower()\n",
    "    hours, minutes = 0, 0\n",
    "    if \"h\" in duration_str:\n",
    "        hours = int(duration_str.split(\"h\")[0].strip())\n",
    "        duration_str = duration_str.split(\"h\")[1]\n",
    "    if \"m\" in duration_str:\n",
    "        minutes = int(duration_str.replace(\"m\", \"\").strip())\n",
    "    return hours * 60 + minutes\n",
    "\n"
   ]
  },
  {
   "cell_type": "markdown",
   "id": "e37212c6-6f4c-469c-841c-fddb34ce4a54",
   "metadata": {},
   "source": [
    "utility method end---------------------------------------------------------------------------------------------------------------------"
   ]
  },
  {
   "cell_type": "code",
   "execution_count": 11,
   "id": "68f5220a-ddfa-49a5-8b2b-5c09327de2ac",
   "metadata": {},
   "outputs": [],
   "source": [
    "list_columns = ['genres', 'directors', 'writers', 'stars', \n",
    "                'production_companies', 'Languages', 'countries_origin']\n",
    "\n",
    "for col in list_columns:\n",
    "    df = clean_str_list_column(df, col)\n"
   ]
  },
  {
   "cell_type": "code",
   "execution_count": 12,
   "id": "6d70d031-e8e0-43e8-835f-b7ec61479848",
   "metadata": {},
   "outputs": [
    {
     "name": "stderr",
     "output_type": "stream",
     "text": [
      "/home/mrityunjay/anaconda3/lib/python3.11/site-packages/seaborn/_oldcore.py:1119: FutureWarning: use_inf_as_na option is deprecated and will be removed in a future version. Convert inf values to NaN before operating instead.\n",
      "  with pd.option_context('mode.use_inf_as_na', True):\n"
     ]
    },
    {
     "data": {
      "image/png": "[encoded data removed]",
      "text/plain": [
       "<Figure size 500x300 with 1 Axes>"
      ]
     },
     "metadata": {},
     "output_type": "display_data"
    }
   ],
   "source": [
    "#distrivbution of movies rating\n",
    "plt.figure(figsize=(5,3))\n",
    "sns.histplot(df['Rating'], bins=20, kde=True)\n",
    "plt.title(\"Distribution of Movie Ratings\")\n",
    "plt.xticks(rotation=45, ha='right')\n",
    "\n",
    "plt.show()"
   ]
  },
  {
   "cell_type": "code",
   "execution_count": 13,
   "id": "15238f21-85d8-4de7-a370-ee7f1e6dcad8",
   "metadata": {},
   "outputs": [
    {
     "name": "stderr",
     "output_type": "stream",
     "text": [
      "/home/mrityunjay/anaconda3/lib/python3.11/site-packages/seaborn/_oldcore.py:1119: FutureWarning: use_inf_as_na option is deprecated and will be removed in a future version. Convert inf values to NaN before operating instead.\n",
      "  with pd.option_context('mode.use_inf_as_na', True):\n"
     ]
    },
    {
     "data": {
      "image/png": "[encoded data removed]",
      "text/plain": [
       "<Figure size 800x500 with 1 Axes>"
      ]
     },
     "metadata": {},
     "output_type": "display_data"
    }
   ],
   "source": [
    "plt.figure(figsize=(8,5))\n",
    "sns.histplot(df['budget'].dropna(), bins=30, kde=True)\n",
    "plt.title(\"Distribution of Movie Budgets\")\n",
    "plt.show()"
   ]
  },
  {
   "cell_type": "code",
   "execution_count": 14,
   "id": "15e316ab-8ed7-4225-9888-e9da517ff2f9",
   "metadata": {},
   "outputs": [
    {
     "name": "stderr",
     "output_type": "stream",
     "text": [
      "/home/mrityunjay/anaconda3/lib/python3.11/site-packages/seaborn/_oldcore.py:1119: FutureWarning: use_inf_as_na option is deprecated and will be removed in a future version. Convert inf values to NaN before operating instead.\n",
      "  with pd.option_context('mode.use_inf_as_na', True):\n"
     ]
    },
    {
     "data": {
      "image/png": "[encoded data removed]",
      "text/plain": [
       "<Figure size 800x500 with 1 Axes>"
      ]
     },
     "metadata": {},
     "output_type": "display_data"
    }
   ],
   "source": [
    "# Distribution of Worldwide Gross\n",
    "plt.figure(figsize=(8,5))\n",
    "sns.histplot(df['grossWorldWide'].dropna(), bins=30, kde=True)\n",
    "plt.title(\"Distribution of Worldwide Gross\")\n",
    "plt.show()"
   ]
  },
  {
   "cell_type": "code",
   "execution_count": 15,
   "id": "7dbcade9-9741-480b-ae56-2ebf2d27e99e",
   "metadata": {},
   "outputs": [
    {
     "data": {
      "image/png": "[encoded data removed]",
      "text/plain": [
       "<Figure size 800x500 with 1 Axes>"
      ]
     },
     "metadata": {},
     "output_type": "display_data"
    }
   ],
   "source": [
    "#Distribution of MPA Ratings\n",
    "plt.figure(figsize=(8,5))\n",
    "sns.countplot(y=df['MPA'])\n",
    "plt.title(\"Distribution of MPA Ratings\")\n",
    "plt.show()"
   ]
  },
  {
   "cell_type": "code",
   "execution_count": 17,
   "id": "4dc68df1-ceba-4512-ae0a-38b33802cdca",
   "metadata": {},
   "outputs": [
    {
     "data": {
      "image/png": "[encoded data removed]",
      "text/plain": [
       "<Figure size 800x500 with 1 Axes>"
      ]
     },
     "metadata": {},
     "output_type": "display_data"
    }
   ],
   "source": [
    "# Top 10 Genres \n",
    "\n",
    "# Flatten all genres into one Series\n",
    "all_genres = df['genres_list'].explode()\n",
    "\n",
    "# Clean whitespace\n",
    "all_genres = all_genres.str.strip()\n",
    "\n",
    "# Get Top 10 genres\n",
    "top_genres = all_genres.value_counts().head(10)\n",
    "\n",
    "plt.figure(figsize=(8,5))\n",
    "sns.barplot(x=top_genres.values, y=top_genres.index)\n",
    "plt.title(\"Top 10 Genres\")\n",
    "plt.show()"
   ]
  },
  {
   "cell_type": "code",
   "execution_count": null,
   "id": "e9c7e6f8-4d3a-4b9d-9732-e70dbd739f2b",
   "metadata": {},
   "outputs": [],
   "source": [
    "# df.head()"
   ]
  },
  {
   "cell_type": "code",
   "execution_count": 19,
   "id": "4596deff-ff5b-4a2b-ae4c-96209c8bbdda",
   "metadata": {},
   "outputs": [],
   "source": [
    "# Apply to dataset\n",
    "df['Votes_clean'] = df['Votes'].apply(convert_votes)"
   ]
  },
  {
   "cell_type": "code",
   "execution_count": 23,
   "id": "5a24f928-9c99-4578-8f69-b319cd9d4adb",
   "metadata": {},
   "outputs": [],
   "source": [
    "# df.info()"
   ]
  },
  {
   "cell_type": "code",
   "execution_count": 25,
   "id": "b435abfe-4c15-4556-85d4-4604b8d26a74",
   "metadata": {},
   "outputs": [],
   "source": [
    "df['Duration_clean'] = df['Duration'].apply(convert_duration)\n"
   ]
  },
  {
   "cell_type": "code",
   "execution_count": 26,
   "id": "3085c0e6-0c69-444a-8515-cd0be7f22316",
   "metadata": {},
   "outputs": [
    {
     "data": {
      "text/plain": [
       "0        124.0\n",
       "1        100.0\n",
       "2        133.0\n",
       "3        125.0\n",
       "4        110.0\n",
       "         ...  \n",
       "33595    127.0\n",
       "33596     85.0\n",
       "33597     91.0\n",
       "33598     90.0\n",
       "33599     78.0\n",
       "Name: Duration_clean, Length: 33600, dtype: float64"
      ]
     },
     "execution_count": 26,
     "metadata": {},
     "output_type": "execute_result"
    }
   ],
   "source": [
    "df['Duration_clean']"
   ]
  },
  {
   "cell_type": "code",
   "execution_count": 27,
   "id": "93235f31-a446-4f71-90d4-3e417d882be6",
   "metadata": {},
   "outputs": [
    {
     "data": {
      "text/plain": [
       "0         683000.0\n",
       "1         173000.0\n",
       "2        1100000.0\n",
       "3         279000.0\n",
       "4          15000.0\n",
       "           ...    \n",
       "33595       1100.0\n",
       "33596         12.0\n",
       "33597       1300.0\n",
       "33598        337.0\n",
       "33599        737.0\n",
       "Name: Votes_clean, Length: 33600, dtype: float64"
      ]
     },
     "execution_count": 27,
     "metadata": {},
     "output_type": "execute_result"
    }
   ],
   "source": [
    "df['Votes_clean']"
   ]
  },
  {
   "cell_type": "code",
   "execution_count": 28,
   "id": "02d4a8ec-bdde-47c7-8666-ad3b2816368e",
   "metadata": {},
   "outputs": [
    {
     "name": "stdout",
     "output_type": "stream",
     "text": [
      "  Votes  Votes_clean\n",
      "0  683K     683000.0\n",
      "1  173K     173000.0\n",
      "2  1.1M    1100000.0\n",
      "3  279K     279000.0\n",
      "4   15K      15000.0\n",
      "5   31K      31000.0\n",
      "6  6.1K       6100.0\n",
      "7  6.7K       6700.0\n",
      "8   23K      23000.0\n",
      "9   65K      65000.0\n",
      "  Duration  Duration_clean\n",
      "0    2h 4m           124.0\n",
      "1   1h 40m           100.0\n",
      "2   2h 13m           133.0\n",
      "3    2h 5m           125.0\n",
      "4   1h 50m           110.0\n",
      "5   1h 53m           113.0\n",
      "6   2h 16m           136.0\n",
      "7   1h 40m           100.0\n",
      "8   1h 51m           111.0\n",
      "9   1h 57m           117.0\n",
      "                                              genres  \\\n",
      "0  ['Monster Horror', 'Sea Adventure', 'Survival'...   \n",
      "1  ['Dark Comedy', 'Raunchy Comedy', 'Rock Musica...   \n",
      "2  ['Medical Drama', 'Psychological Drama', 'Drama']   \n",
      "\n",
      "                                         genres_list  \n",
      "0  [Monster Horror, Sea Adventure, Survival, Adve...  \n",
      "1  [Dark Comedy, Raunchy Comedy, Rock Musical, Su...  \n",
      "2        [Medical Drama, Psychological Drama, Drama]  \n"
     ]
    }
   ],
   "source": [
    "print(df[['Votes', 'Votes_clean']].head(10))\n",
    "print(df[['Duration', 'Duration_clean']].head(10))\n",
    "print(df[['genres', 'genres_list']].head(3))"
   ]
  },
  {
   "cell_type": "code",
   "execution_count": 29,
   "id": "eefc7999-dd2a-4a1f-91f4-9cd7e16ae692",
   "metadata": {},
   "outputs": [
    {
     "name": "stdout",
     "output_type": "stream",
     "text": [
      "budget                       64.836310\n",
      "opening_weekend_Gross        53.800595\n",
      "gross_US_Canada              47.705357\n",
      "grossWorldWide               45.767857\n",
      "MPA                          23.738095\n",
      "filming_locations            20.026786\n",
      "writers                       4.690476\n",
      "writers_list                  4.690476\n",
      "production_companies          4.101190\n",
      "production_companies_list     4.101190\n",
      "Languages                     1.410714\n",
      "Languages_list                1.410714\n",
      "stars_list                    1.407738\n",
      "stars                         1.407738\n",
      "genres_list                   1.136905\n",
      "genres                        1.136905\n",
      "countries_origin_list         1.089286\n",
      "countries_origin              1.089286\n",
      "directors                     1.068452\n",
      "directors_list                1.068452\n",
      "Duration_clean                0.657738\n",
      "Duration                      0.657738\n",
      "Votes                         0.410714\n",
      "Rating                        0.410714\n",
      "Votes_clean                   0.410714\n",
      "nominations                   0.000000\n",
      "oscars                        0.000000\n",
      "wins                          0.000000\n",
      "Title                         0.000000\n",
      "Year                          0.000000\n",
      "Movie Link                    0.000000\n",
      "id                            0.000000\n",
      "dtype: float64\n"
     ]
    }
   ],
   "source": [
    "missing = df.isnull().sum() / len(df) * 100\n",
    "print(missing.sort_values(ascending=False))"
   ]
  },
  {
   "cell_type": "code",
   "execution_count": 40,
   "id": "3af977dc-907f-43ff-825d-b5456c9b2463",
   "metadata": {},
   "outputs": [
    {
     "name": "stdout",
     "output_type": "stream",
     "text": [
      "Skewness: 97.63614372063823\n"
     ]
    },
    {
     "data": {
      "image/png": "[encoded data removed]",
      "text/plain": [
       "<Figure size 640x480 with 1 Axes>"
      ]
     },
     "metadata": {},
     "output_type": "display_data"
    }
   ],
   "source": [
    "df['budget'].hist(bins=50)\n",
    "print(\"Skewness:\", df['budget'].skew())\n",
    "\n"
   ]
  },
  {
   "cell_type": "code",
   "execution_count": 44,
   "id": "4991e2e8-528a-4707-b50b-5ca4acb84705",
   "metadata": {},
   "outputs": [
    {
     "data": {
      "text/plain": [
       "Year\n",
       "2020    4.679571e+07\n",
       "2013    8.255770e+07\n",
       "1988    1.627330e+07\n",
       "1969    9.195350e+06\n",
       "2007    2.672560e+07\n",
       "Name: budget, dtype: float64"
      ]
     },
     "execution_count": 44,
     "metadata": {},
     "output_type": "execute_result"
    }
   ],
   "source": [
    "df.groupby('Year')['budget'].mean().sample(5)\n"
   ]
  },
  {
   "cell_type": "code",
   "execution_count": 45,
   "id": "f5cf3eea-369b-4b8e-88f5-8250cbf4d85f",
   "metadata": {},
   "outputs": [
    {
     "data": {
      "text/plain": [
       "<Axes: xlabel='Year'>"
      ]
     },
     "execution_count": 45,
     "metadata": {},
     "output_type": "execute_result"
    },
    {
     "data": {
      "image/png": "[encoded data removed]",
      "text/plain": [
       "<Figure size 1500x400 with 1 Axes>"
      ]
     },
     "metadata": {},
     "output_type": "display_data"
    }
   ],
   "source": [
    "df.groupby('Year')['budget'].apply(lambda x: x.isnull().mean()*100).plot(kind='bar', figsize=(15,4))\n"
   ]
  },
  {
   "cell_type": "code",
   "execution_count": null,
   "id": "bb7f4441-c894-4dec-a08f-94a9e2635223",
   "metadata": {},
   "outputs": [],
   "source": []
  }
 ],
 "metadata": {
  "kernelspec": {
   "display_name": "Python 3 (ipykernel)",
   "language": "python",
   "name": "python3"
  },
  "language_info": {
   "codemirror_mode": {
    "name": "ipython",
    "version": 3
   },
   "file_extension": ".py",
   "mimetype": "text/x-python",
   "name": "python",
   "nbconvert_exporter": "python",
   "pygments_lexer": "ipython3",
   "version": "3.11.7"
  }
 },
 "nbformat": 4,
 "nbformat_minor": 5
}
