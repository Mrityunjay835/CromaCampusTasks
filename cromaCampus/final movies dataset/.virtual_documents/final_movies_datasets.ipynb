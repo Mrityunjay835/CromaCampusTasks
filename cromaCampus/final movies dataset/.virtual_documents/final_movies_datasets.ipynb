import pandas as pd
import numpy as np
import matplotlib.pyplot as plt
import seaborn as sns
import ast 


df = pd.read_csv("final_movies_dataset.csv")



df.head(2)


# checking datasets shape
df.shape


#information of dataframe
df.info()


print(df.isnull().sum())


df.describe()


print(df.iloc[0].values.tolist())





print(df.describe(include="all"))






def clean_str_list_column(df, col_name):
    """
    Cleans a column that contains stringified Python lists.
    Converts them into actual Python lists.
    """
    df[col_name + "_list"] = df[col_name].dropna().apply(
        lambda x: ast.literal_eval(x) if isinstance(x, str) else []
    )
    return df


def convert_votes(vote_str):
    """
    Converts votes string like '683K', '1.2M' into integer.
    Handles missing values.
    """
    if pd.isna(vote_str):
        return None
    vote_str = str(vote_str).replace(",", "").strip()
    if vote_str.endswith("K"):
        return int(float(vote_str[:-1]) * 1_000)
    elif vote_str.endswith("M"):
        return int(float(vote_str[:-1]) * 1_000_000)
    else:
        return int(float(vote_str))  # already a number


def convert_duration(duration_str):
    """
    Converts duration from '2h 4m' into total minutes as integer.
    Handles missing values.
    """
    if pd.isna(duration_str):
        return None
    duration_str = str(duration_str).lower()
    hours, minutes = 0, 0
    if "h" in duration_str:
        hours = int(duration_str.split("h")[0].strip())
        duration_str = duration_str.split("h")[1]
    if "m" in duration_str:
        minutes = int(duration_str.replace("m", "").strip())
    return hours * 60 + minutes







list_columns = ['genres', 'directors', 'writers', 'stars', 
                'production_companies', 'Languages', 'countries_origin']

for col in list_columns:
    df = clean_str_list_column(df, col)



#distrivbution of movies rating
plt.figure(figsize=(5,3))
sns.histplot(df['Rating'], bins=20, kde=True)
plt.title("Distribution of Movie Ratings")
plt.xticks(rotation=45, ha='right')

plt.show()


plt.figure(figsize=(8,5))
sns.histplot(df['budget'].dropna(), bins=30, kde=True)
plt.title("Distribution of Movie Budgets")
plt.show()


# Distribution of Worldwide Gross
plt.figure(figsize=(8,5))
sns.histplot(df['grossWorldWide'].dropna(), bins=30, kde=True)
plt.title("Distribution of Worldwide Gross")
plt.show()


#Distribution of MPA Ratings
plt.figure(figsize=(8,5))
sns.countplot(y=df['MPA'])
plt.title("Distribution of MPA Ratings")
plt.show()


# Top 10 Genres 

# Flatten all genres into one Series
all_genres = df['genres_list'].explode()

# Clean whitespace
all_genres = all_genres.str.strip()

# Get Top 10 genres
top_genres = all_genres.value_counts().head(10)

plt.figure(figsize=(8,5))
sns.barplot(x=top_genres.values, y=top_genres.index)
plt.title("Top 10 Genres")
plt.show()


# df.head()


# Apply to dataset
df['Votes_clean'] = df['Votes'].apply(convert_votes)


# df.info()


df['Duration_clean'] = df['Duration'].apply(convert_duration)



df['Duration_clean']


df['Votes_clean']


print(df[['Votes', 'Votes_clean']].head(10))
print(df[['Duration', 'Duration_clean']].head(10))
print(df[['genres', 'genres_list']].head(3))


missing = df.isnull().sum() / len(df) * 100
print(missing.sort_values(ascending=False))


df['budget'].hist(bins=50)
print("Skewness:", df['budget'].skew())




df.groupby('Year')['budget'].mean().sample(5)



df.groupby('Year')['budget'].apply(lambda x: x.isnull().mean()*100).plot(kind='bar', figsize=(15,4))



df[['budget','grossWorldWide','gross_US_Canada','opening_weekend_Gross']].corr()


# sns.heatmap(df[['budget','grossWorldWide','gross_US_Canada','opening_weekend_Gross']].corr)


df.groupby(df['budget'].isnull())['Rating'].mean()



import matplotlib.pyplot as plt

# Calculate % missing per year for financial columns
missing_by_year = df.groupby("Year")[["budget", "grossWorldWide", "gross_US_Canada", "opening_weekend_Gross"]].apply(lambda x: x.isnull().mean()*100)

# Plot
missing_by_year.plot(kind="line", figsize=(14,6), marker="o")
plt.title("Missing % by Year (Financial Features)")
plt.ylabel("% Missing")
plt.show()






# Split into groups
with_budget = df[df['budget'].notnull()]
without_budget = df[df['budget'].isnull()]

# Summary statistics
print("With Budget:", with_budget['budget'].describe())
print("Without Budget (Year Dist):", without_budget['Year'].describe())

# Histogram comparison
plt.figure(figsize=(12,6))
sns.histplot(with_budget['budget'], bins=50, color="blue", label="With Budget", kde=True)
sns.histplot(without_budget['Year'], bins=50, color="red", label="Missing Budget (by Year)", kde=True)
plt.legend()
plt.title("Budget Availability vs Distribution")
plt.show()





yearly_budget_median = df.groupby("Year")["budget"].median()

print(yearly_budget_median.head(10))  # just to peek


yearly_budget_median = yearly_budget_median.reset_index()
yearly_budget_median.columns = ["Year", "Median_Budget"]  # give clear column names

# Now plot
sns.lineplot(data=yearly_budget_median, x="Year", y="Median_Budget")
plt.xlabel("Year")
plt.ylabel("Median Budget")
plt.title("Yearly Median Budget")
plt.show()





# Impute function
def impute_budget(row):
    if pd.isna(row["budget"]):
        year = row["Year"]
        if year in yearly_budget_median.index and not pd.isna(yearly_budget_median[year]):
            return yearly_budget_median[year]
        else:
            # fallback: decade median
            decade = (year // 10) * 10
            return df[df["Year"].between(decade, decade+9)]["budget"].median()
    return row["budget"]

df["budget_clean"] = df.apply(impute_budget, axis=1)



# from sklearn.model_selection import train_test_split
# from sklearn.ensemble import RandomForestRegressor
# from sklearn.preprocessing import OneHotEncoder
# from sklearn.compose import ColumnTransformer
# from sklearn.pipeline import Pipeline
# from sklearn.impute import SimpleImputer

# # Select predictors
# features = ["Duration_clean", "grossWorldWide", "gross_US_Canada", 
#             "opening_weekend_Gross", "Rating", "Votes_clean", "Year", "genres"]

# df_train = df[df["budget"].notnull()]
# df_missing = df[df["budget"].isnull()]

# X_train = df_train[features]
# y_train = df_train["budget"]
# X_missing = df_missing[features]

# # Preprocessing: OneHotEncode categorical + Impute missing values
# categorical = ["genres"]
# numerical = [f for f in features if f not in categorical]

# preprocessor = ColumnTransformer(
#     transformers=[
#         ("cat", Pipeline([
#             ("imputer", SimpleImputer(strategy="most_frequent")),
#             ("encoder", OneHotEncoder(handle_unknown="ignore"))
#         ]), categorical),
#         ("num", Pipeline([
#             ("imputer", SimpleImputer(strategy="median"))
#         ]), numerical)
#     ]
# )

# # Build pipeline with regressor
# model = Pipeline(steps=[
#     ("preprocessor", preprocessor),
#     ("regressor", RandomForestRegressor(n_estimators=200, random_state=42))
# ])

# # Train model
# model.fit(X_train, y_train)

# # Predict missing budgets
# df.loc[df["budget"].isnull(), "budget_predicted"] = model.predict(X_missing)







